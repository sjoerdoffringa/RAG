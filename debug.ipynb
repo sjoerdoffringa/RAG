{
 "cells": [
  {
   "cell_type": "code",
   "execution_count": 4,
   "metadata": {},
   "outputs": [],
   "source": [
    "from rag_module.rag import RAG\n",
    "import os\n",
    "\n",
    "os.environ[\"embedding_path\"] = \"./embeddings/ELOQ_news_partial_2/\""
   ]
  },
  {
   "cell_type": "code",
   "execution_count": 5,
   "metadata": {},
   "outputs": [
    {
     "name": "stderr",
     "output_type": "stream",
     "text": [
      "INFO:sentence_transformers.SentenceTransformer:Use pytorch device_name: cpu\n",
      "INFO:sentence_transformers.SentenceTransformer:Load pretrained SentenceTransformer: all-MiniLM-L6-v2\n",
      "Batches: 100%|██████████| 22/22 [00:10<00:00,  2.18it/s]\n"
     ]
    },
    {
     "name": "stdout",
     "output_type": "stream",
     "text": [
      "Loading default flashrank model for language en\n",
      "Default Model: ms-marco-MiniLM-L-12-v2\n",
      "Loading FlashRankRanker model ms-marco-MiniLM-L-12-v2 (this message can be suppressed by setting verbose=0)\n",
      "Loading model FlashRank model ms-marco-MiniLM-L-12-v2...\n",
      "Successfully loaded model from run f87519525e9146b8b026c4ff27cec00c\n",
      "Loaded features: ['top_reranker_score', 'top_sparse_score', 'top_dense_score']\n"
     ]
    }
   ],
   "source": [
    "#rag = RAG(scope_model_id='dfa843b7e7b740f8b2e4f9098a7884fd')\n",
    "#rag = RAG(scope_model_id='5217cda942f54213aeb8d18a8dcdaa79')\n",
    "rag = RAG(scope_model_id='f87519525e9146b8b026c4ff27cec00c') # 2 labels\n"
   ]
  },
  {
   "cell_type": "code",
   "execution_count": 6,
   "metadata": {},
   "outputs": [
    {
     "name": "stderr",
     "output_type": "stream",
     "text": [
      "Batches: 100%|██████████| 22/22 [00:09<00:00,  2.28it/s]\n"
     ]
    }
   ],
   "source": [
    "rag.embedder._load_index_from_chunkdata()"
   ]
  },
  {
   "cell_type": "code",
   "execution_count": 3,
   "metadata": {},
   "outputs": [
    {
     "name": "stderr",
     "output_type": "stream",
     "text": [
      "Batches: 100%|██████████| 1/1 [00:00<00:00, 11.64it/s]\n"
     ]
    },
    {
     "name": "stdout",
     "output_type": "stream",
     "text": [
      "Features for scope prediction: [np.float32(0.9945979), np.float64(22.199729732896213), np.float32(0.29875493)]\n"
     ]
    },
    {
     "name": "stderr",
     "output_type": "stream",
     "text": [
      "INFO:httpx:HTTP Request: POST https://api.openai.com/v1/chat/completions \"HTTP/1.1 200 OK\"\n",
      "INFO:httpx:HTTP Request: POST https://api.openai.com/v1/chat/completions \"HTTP/1.1 200 OK\"\n"
     ]
    },
    {
     "data": {
      "text/plain": [
       "{'chunks': [{'filename': 'azure-managed-databases.md',\n",
       "   'text': '## Graph database  \\nFor graph databases there is a single managed offering in Azure.',\n",
       "   'vector_id': 1416,\n",
       "   'distance': np.float32(0.29875493),\n",
       "   'score': np.float32(0.9945979)},\n",
       "  {'filename': 'azure-managed-databases.md',\n",
       "   'text': '### Azure Cosmos DB (Gremlin API)  \\nWith the [Gremlin API in Azure Cosmos DB](https://docs.microsoft.com/en-us/azure/cosmos-db/graph-introduction) you can create and query large graphs.  \\n> **Guidance:** Use **Azure Cosmos DB with the Gremlin API** for graph databases.\\n> **Why:** This is the only managed graph database offered in Azure.',\n",
       "   'vector_id': 1417,\n",
       "   'distance': np.float32(0.57931983),\n",
       "   'score': np.float32(0.9836745)},\n",
       "  {'filename': 'azure-managed-databases.md',\n",
       "   'text': '### Alternative graph database  \\nIf _Cosmos DB_ is too pricy, it is an option to host a Neo4J environment with virtual machines or containers. For enterprise features, additional licenses might be required.  \\n- [Neo4J](https://neo4j.com/)',\n",
       "   'vector_id': 1418,\n",
       "   'distance': np.float32(0.8369726),\n",
       "   'score': np.float32(0.961468)}],\n",
       " 'query': 'What are the options for hosting a graph database in Azure?',\n",
       " 'scope_prediction': np.int64(1),\n",
       " 'counterfactual': 'What is the recommended managed graph database solution in Azure?',\n",
       " 'answer': 'In Azure, there are two main options for hosting a graph database:\\n\\n1. **Azure Cosmos DB (Gremlin API)**: This is the single managed offering in Azure specifically designed for graph databases. It allows you to create and query large graphs effectively. This is recommended for users seeking a managed solution.\\n\\n2. **Neo4J**: If Azure Cosmos DB is considered too expensive, you can host a Neo4J environment using virtual machines or containers. However, note that for some enterprise features, additional licenses may be needed.\\n\\nThese options provide flexibility depending on your requirements and budget.'}"
      ]
     },
     "execution_count": 3,
     "metadata": {},
     "output_type": "execute_result"
    }
   ],
   "source": [
    "rag.query(\"What are the options for hosting a graph database in Azure?\")"
   ]
  }
 ],
 "metadata": {
  "kernelspec": {
   "display_name": "rag--7y4UdRY-py3.13",
   "language": "python",
   "name": "python3"
  },
  "language_info": {
   "codemirror_mode": {
    "name": "ipython",
    "version": 3
   },
   "file_extension": ".py",
   "mimetype": "text/x-python",
   "name": "python",
   "nbconvert_exporter": "python",
   "pygments_lexer": "ipython3",
   "version": "3.13.2"
  }
 },
 "nbformat": 4,
 "nbformat_minor": 2
}
