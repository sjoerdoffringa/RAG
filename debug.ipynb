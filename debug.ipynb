{
 "cells": [
  {
   "cell_type": "code",
   "execution_count": 3,
   "metadata": {},
   "outputs": [],
   "source": [
    "from rag_module.rag import RAG"
   ]
  },
  {
   "cell_type": "code",
   "execution_count": 4,
   "metadata": {},
   "outputs": [
    {
     "name": "stderr",
     "output_type": "stream",
     "text": [
      "INFO:sentence_transformers.SentenceTransformer:Use pytorch device_name: cpu\n",
      "INFO:sentence_transformers.SentenceTransformer:Load pretrained SentenceTransformer: all-MiniLM-L6-v2\n"
     ]
    },
    {
     "name": "stdout",
     "output_type": "stream",
     "text": [
      "Loading default flashrank model for language en\n",
      "Default Model: ms-marco-MiniLM-L-12-v2\n",
      "Loading FlashRankRanker model ms-marco-MiniLM-L-12-v2 (this message can be suppressed by setting verbose=0)\n",
      "Loading model FlashRank model ms-marco-MiniLM-L-12-v2...\n"
     ]
    }
   ],
   "source": [
    "rag = RAG(LLM_name=\"openai:gpt-4o-mini\")"
   ]
  },
  {
   "cell_type": "code",
   "execution_count": 8,
   "metadata": {},
   "outputs": [
    {
     "data": {
      "text/plain": [
       "'./embeddings/ELOQ_news/chunk_data.json'"
      ]
     },
     "execution_count": 8,
     "metadata": {},
     "output_type": "execute_result"
    }
   ],
   "source": [
    "rag.embedder.chunkdata_path"
   ]
  },
  {
   "cell_type": "code",
   "execution_count": 3,
   "metadata": {},
   "outputs": [
    {
     "name": "stderr",
     "output_type": "stream",
     "text": [
      "Batches: 100%|██████████| 28/28 [00:08<00:00,  3.31it/s]\n"
     ]
    }
   ],
   "source": [
    "rag.reload_embeddings()"
   ]
  },
  {
   "cell_type": "code",
   "execution_count": 9,
   "metadata": {},
   "outputs": [
    {
     "name": "stderr",
     "output_type": "stream",
     "text": [
      "Batches: 100%|██████████| 1/1 [00:00<00:00,  6.22it/s]\n",
      "INFO:httpx:HTTP Request: POST https://api.openai.com/v1/chat/completions \"HTTP/1.1 200 OK\"\n"
     ]
    },
    {
     "data": {
      "text/plain": [
       "{'chunks': [{'filename': 'news_2',\n",
       "   'text': 'This Southern California airport is the best in North America, survey says\\n\\nTravel in and out of the densely populated region of Southern California can be hectic — but that didn’t stop one of its busiest airports from being named top in North America. According to the 2024 North American Airport Satisfaction Survey from JD Power, Orange County’s John Wayne Airport is the best large airport in North America. The “large airport” category includes airports that receive between 10 and 32.9 million passengers per year. Orange County’s lone commercial airport beat out competitors like Tampa International Airport (No. 2), Kansas City International Airport (No. 3), Dallas Love Field (No. 4) and Nashville International Airport (No. 5). Other California airports ranked in that category include Sacramento International Airport (No. 7), San Jose International Airport (No. 10), Oakland International Airport (No. 19) and San Diego International Airport (No. 21). Other California airports earned high placements in other categories. In the “mega airport” category, for airports that receive 33 million or more passengers per year, Los Angeles International Airport ranked No. 13. Topping that category was Minnesota’s Minneapolis-Saint Paul International Airport. Rounding out the top five included Detroit Metropolitan Wayne County Airport (No. 2), Phoenix Sky Harbor International Airport (No. 3), John F. Kennedy International Airport (No. 4) and Dallas/Forth Worth International Airport (No. 5). For medium airports, which receive between 4.5 to 9.9 million passengers per year, Ontario International Airport ranked No.',\n",
       "   'vector_id': 1,\n",
       "   'distance': np.float32(0.6257007),\n",
       "   'score': np.float32(0.99983025)},\n",
       "  {'filename': 'travel_136',\n",
       "   'text': 'Every few months, it seems, another outfit releases a new list of the best and worst airports in the world, and a certain airport seems to be a perennial pariah. Paris\\' miserable Charles de Gaulle Airport (CDG) is a bane of world travel, particularly for flight transfers. A dysfunctional layout, awkward connections, lousy signage, alienating Brutalist architecture, and crowds of grumpy international travelers who don\\'t speak your language—the airport may be the perfect embodiment of the pompous politico it\\'s named for. The French countryside may be calming and lovely, but you\\'ll have to pay a heavy toll to see it if you arrive at CDG. Nonetheless, CDG has been unavoidable for many North American travelers because so many transatlantic airlines use it. Plus, the aiport has the easiest ground transportation links to Paris (about an hour). At least, that used to be true. Another airport in Paris just became much cheaper and faster to reach than Charles de Gaulle. On June 24, 3 years ahead of its originally announced opening date, Line 14 of the Paris Métro subway system christened a new extension that stops directly at Paris-Orly Airport. Now automated Métro trains depart from a new Orly station every 3–5 minutes and take just 30 minutes to reach the Pyramides stop in the middle of Paris. Unlike the previously existing rail option at Orly, it\\'s a one-seat journey from airport to town, and the fare is typically just €10.30 (US$11.23). Before \"Ligne 14\" expanded, getting ground transportation from Orly required road vehicles or the cumbersome OrlyVal shuttle/train combination (pictured below; €14.10 or $15.37) that could take an hour or longer—and is now much slower and more expensive than the new Métro option.',\n",
       "   'vector_id': 1135,\n",
       "   'distance': np.float32(1.092783),\n",
       "   'score': np.float32(0.95312876)},\n",
       "  {'filename': 'travel_79',\n",
       "   'text': 'Nearly two-thirds of North American flyers (60% to be precise) report having \"enjoyed spending time in their airport,\" according to the latest passenger satisfaction survey from J.D. Power. The baffling contentment of those travelers is evidently impervious to record passenger volume, widespread flight delays, and overpriced food and drink at airport stores and restaurants. For what it\\'s worth, the latter costs do get the lowest scores among airport-goers, J.D. Power reports. In fact, more travelers seem to be skipping snacks at terminals, with the amount spent on food and beverages at airports in 2024 declining from 2023 figures, per J.D. Power\\'s data. The survey\\'s primary purpose, though, is to rank North America\\'s \"mega,\" \"large,\" and \"medium\" airports according to the following criteria, listed in the order of importance as determined by J.D. Power\\'s analysts: \"ease of travel through airport; level of trust with airport; terminal facilities; airport staff; departure/to airport experience; food, beverage, and retail; and arrival/from airport experience.\" In case you were wondering, mega airports are defined as those with 33 million or more passengers per year; large airports get 10 to 32.9 million passengers per year; and medium airports get 4.5 to 9.9 million passengers per year. This year\\'s rankings—the 19th installment of J.D. Power\\'s annual report—are based on 26,290 completed surveys from U.S. and Canadian flyers. Now that we\\'ve got the methodology out of the way, let\\'s take a look at 2024\\'s best and worst airports in North America, according to the people who flew in and out of them.',\n",
       "   'vector_id': 1078,\n",
       "   'distance': np.float32(0.9968032),\n",
       "   'score': np.float32(0.9504396)}],\n",
       " 'query': 'What is the best airport in north america?',\n",
       " 'answer': \"The best airport in North America, according to the 2024 North American Airport Satisfaction Survey from JD Power, is Orange County's John Wayne Airport.\"}"
      ]
     },
     "execution_count": 9,
     "metadata": {},
     "output_type": "execute_result"
    }
   ],
   "source": [
    "rag.query(\"What is the best airport in north america?\")"
   ]
  }
 ],
 "metadata": {
  "kernelspec": {
   "display_name": "rag--7y4UdRY-py3.13",
   "language": "python",
   "name": "python3"
  },
  "language_info": {
   "codemirror_mode": {
    "name": "ipython",
    "version": 3
   },
   "file_extension": ".py",
   "mimetype": "text/x-python",
   "name": "python",
   "nbconvert_exporter": "python",
   "pygments_lexer": "ipython3",
   "version": "3.13.2"
  }
 },
 "nbformat": 4,
 "nbformat_minor": 2
}
