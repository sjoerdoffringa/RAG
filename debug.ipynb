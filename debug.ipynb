{
 "cells": [
  {
   "cell_type": "code",
   "execution_count": 1,
   "metadata": {},
   "outputs": [
    {
     "name": "stderr",
     "output_type": "stream",
     "text": [
      "c:\\Users\\SjoerdO\\AppData\\Local\\pypoetry\\Cache\\virtualenvs\\rag--7y4UdRY-py3.13\\Lib\\site-packages\\tqdm\\auto.py:21: TqdmWarning: IProgress not found. Please update jupyter and ipywidgets. See https://ipywidgets.readthedocs.io/en/stable/user_install.html\n",
      "  from .autonotebook import tqdm as notebook_tqdm\n"
     ]
    }
   ],
   "source": [
    "from rag_module.rag import RAG\n",
    "import os\n",
    "\n",
    "os.environ[\"embedding_path\"] = \"./embeddings/guidance_framework_2/\""
   ]
  },
  {
   "cell_type": "code",
   "execution_count": 2,
   "metadata": {},
   "outputs": [
    {
     "name": "stdout",
     "output_type": "stream",
     "text": [
      "Loading default flashrank model for language en\n",
      "Default Model: ms-marco-MiniLM-L-12-v2\n",
      "Loading FlashRankRanker model ms-marco-MiniLM-L-12-v2 (this message can be suppressed by setting verbose=0)\n",
      "Loading model FlashRank model ms-marco-MiniLM-L-12-v2...\n",
      "Successfully loaded model from run 73e8819c680c49b2a511a5efbe04876b\n",
      "Loaded features: ['top_sparse_score', 'top_dense_score']\n"
     ]
    }
   ],
   "source": [
    "rag = RAG(scope_model_id='73e8819c680c49b2a511a5efbe04876b')"
   ]
  },
  {
   "cell_type": "code",
   "execution_count": 4,
   "metadata": {},
   "outputs": [
    {
     "name": "stdout",
     "output_type": "stream",
     "text": [
      "n queries guidance framework: 55\n"
     ]
    }
   ],
   "source": [
    "# load all dfs in eval_data/SyntheticQA/QA_sets/\n",
    "import os\n",
    "import pandas as pd\n",
    "\n",
    "# Get all CSV files in the directory\n",
    "directory = \"eval_data/SyntheticQA/QA_sets/\"\n",
    "csv_files = [f for f in os.listdir(directory) if f.endswith('.csv')]\n",
    "\n",
    "# Loop through the files and read them into DataFrames\n",
    "dataframes = []\n",
    "for file in csv_files:\n",
    "    file_path = os.path.join(directory, file)\n",
    "    df = pd.read_csv(file_path)\n",
    "    dataframes.append(df)\n",
    "\n",
    "# Concatenate all DataFrames into one\n",
    "df_gf = pd.concat(dataframes, ignore_index=True)\n",
    "df_gf = df.groupby('chunk_id').first()\n",
    "\n",
    "print(f'n queries guidance framework: {len(df_gf)}')"
   ]
  },
  {
   "cell_type": "markdown",
   "metadata": {},
   "source": [
    "## User tests"
   ]
  },
  {
   "cell_type": "code",
   "execution_count": 6,
   "metadata": {},
   "outputs": [],
   "source": [
    "queries = [\n",
    "    'What is the main reason for avoiding the implementation of complex business logic within Power BI?',\n",
    "    'What is the purpose of the sprint retrospective in the Scrum process?',\n",
    "    'What are some potential drawbacks of using Lombok in Java development?',\n",
    "    'Which database should I use for graphs?',\n",
    "    'what is an ETL pipeline?',\n",
    "    'List three use cases for AI in the financial sector.',\n",
    "    'What information should I include in a git commit message?',\n",
    "    'Which plot should I use to visualize six distributions on the same scale?'\n",
    "]"
   ]
  },
  {
   "cell_type": "code",
   "execution_count": 7,
   "metadata": {},
   "outputs": [
    {
     "name": "stderr",
     "output_type": "stream",
     "text": [
      "Batches: 100%|██████████| 1/1 [00:00<00:00, 52.77it/s]\n",
      "INFO:httpx:HTTP Request: POST https://api.openai.com/v1/chat/completions \"HTTP/1.1 200 OK\"\n",
      "Batches: 100%|██████████| 1/1 [00:00<00:00, 43.14it/s]\n",
      "INFO:httpx:HTTP Request: POST https://api.openai.com/v1/chat/completions \"HTTP/1.1 200 OK\"\n",
      "Batches: 100%|██████████| 1/1 [00:00<00:00, 38.43it/s]\n",
      "INFO:httpx:HTTP Request: POST https://api.openai.com/v1/chat/completions \"HTTP/1.1 200 OK\"\n",
      "INFO:httpx:HTTP Request: POST https://api.openai.com/v1/chat/completions \"HTTP/1.1 429 Too Many Requests\"\n",
      "INFO:openai._base_client:Retrying request to /chat/completions in 20.000000 seconds\n",
      "INFO:httpx:HTTP Request: POST https://api.openai.com/v1/chat/completions \"HTTP/1.1 200 OK\"\n",
      "Batches: 100%|██████████| 1/1 [00:00<00:00, 35.59it/s]\n",
      "INFO:httpx:HTTP Request: POST https://api.openai.com/v1/chat/completions \"HTTP/1.1 429 Too Many Requests\"\n",
      "INFO:openai._base_client:Retrying request to /chat/completions in 20.000000 seconds\n",
      "INFO:httpx:HTTP Request: POST https://api.openai.com/v1/chat/completions \"HTTP/1.1 200 OK\"\n",
      "INFO:httpx:HTTP Request: POST https://api.openai.com/v1/chat/completions \"HTTP/1.1 429 Too Many Requests\"\n",
      "INFO:openai._base_client:Retrying request to /chat/completions in 20.000000 seconds\n",
      "INFO:httpx:HTTP Request: POST https://api.openai.com/v1/chat/completions \"HTTP/1.1 200 OK\"\n",
      "Batches: 100%|██████████| 1/1 [00:00<00:00, 29.90it/s]\n",
      "INFO:httpx:HTTP Request: POST https://api.openai.com/v1/chat/completions \"HTTP/1.1 429 Too Many Requests\"\n",
      "INFO:openai._base_client:Retrying request to /chat/completions in 20.000000 seconds\n",
      "INFO:httpx:HTTP Request: POST https://api.openai.com/v1/chat/completions \"HTTP/1.1 200 OK\"\n",
      "INFO:httpx:HTTP Request: POST https://api.openai.com/v1/chat/completions \"HTTP/1.1 200 OK\"\n",
      "Batches: 100%|██████████| 1/1 [00:00<00:00, 43.87it/s]\n",
      "INFO:httpx:HTTP Request: POST https://api.openai.com/v1/chat/completions \"HTTP/1.1 429 Too Many Requests\"\n",
      "INFO:openai._base_client:Retrying request to /chat/completions in 20.000000 seconds\n",
      "INFO:httpx:HTTP Request: POST https://api.openai.com/v1/chat/completions \"HTTP/1.1 200 OK\"\n",
      "Batches: 100%|██████████| 1/1 [00:00<00:00, 46.46it/s]\n",
      "INFO:httpx:HTTP Request: POST https://api.openai.com/v1/chat/completions \"HTTP/1.1 429 Too Many Requests\"\n",
      "INFO:openai._base_client:Retrying request to /chat/completions in 20.000000 seconds\n",
      "INFO:httpx:HTTP Request: POST https://api.openai.com/v1/chat/completions \"HTTP/1.1 200 OK\"\n",
      "Batches: 100%|██████████| 1/1 [00:00<00:00, 33.94it/s]\n",
      "INFO:httpx:HTTP Request: POST https://api.openai.com/v1/chat/completions \"HTTP/1.1 200 OK\"\n"
     ]
    }
   ],
   "source": [
    "responses = [rag.query(query) for query in queries]"
   ]
  },
  {
   "cell_type": "code",
   "execution_count": 8,
   "metadata": {},
   "outputs": [],
   "source": [
    "# create a dataframe from responses\n",
    "import pandas as pd\n",
    "df = pd.DataFrame(responses)"
   ]
  },
  {
   "cell_type": "code",
   "execution_count": 9,
   "metadata": {},
   "outputs": [
    {
     "data": {
      "text/html": [
       "<div>\n",
       "<style scoped>\n",
       "    .dataframe tbody tr th:only-of-type {\n",
       "        vertical-align: middle;\n",
       "    }\n",
       "\n",
       "    .dataframe tbody tr th {\n",
       "        vertical-align: top;\n",
       "    }\n",
       "\n",
       "    .dataframe thead th {\n",
       "        text-align: right;\n",
       "    }\n",
       "</style>\n",
       "<table border=\"1\" class=\"dataframe\">\n",
       "  <thead>\n",
       "    <tr style=\"text-align: right;\">\n",
       "      <th></th>\n",
       "      <th>chunks</th>\n",
       "      <th>query</th>\n",
       "      <th>scope_prediction</th>\n",
       "      <th>scope_probabilities</th>\n",
       "      <th>answer</th>\n",
       "      <th>counterfactual</th>\n",
       "    </tr>\n",
       "  </thead>\n",
       "  <tbody>\n",
       "    <tr>\n",
       "      <th>0</th>\n",
       "      <td>[{'filename': '01-power-bi.md', 'text': '# Pow...</td>\n",
       "      <td>What is the main reason for avoiding the imple...</td>\n",
       "      <td>0</td>\n",
       "      <td>[0.6818717116033882, 0.27442004770119843, 0.04...</td>\n",
       "      <td>The main reason for avoiding the implementatio...</td>\n",
       "      <td>NaN</td>\n",
       "    </tr>\n",
       "    <tr>\n",
       "      <th>1</th>\n",
       "      <td>[{'filename': 'retrospectives.md', 'text': '# ...</td>\n",
       "      <td>What is the purpose of the sprint retrospectiv...</td>\n",
       "      <td>0</td>\n",
       "      <td>[0.9101098278920184, 0.08663759528188793, 0.00...</td>\n",
       "      <td>The purpose of the Sprint Retrospective in the...</td>\n",
       "      <td>NaN</td>\n",
       "    </tr>\n",
       "    <tr>\n",
       "      <th>2</th>\n",
       "      <td>[{'filename': '01-code-generation-libraries.md...</td>\n",
       "      <td>What are some potential drawbacks of using Lom...</td>\n",
       "      <td>1</td>\n",
       "      <td>[0.21397526214846513, 0.6817708980864439, 0.10...</td>\n",
       "      <td>Some potential drawbacks of using Lombok in Ja...</td>\n",
       "      <td>What are some advantages of using Lombok in Ja...</td>\n",
       "    </tr>\n",
       "    <tr>\n",
       "      <th>3</th>\n",
       "      <td>[{'filename': 'azure-managed-databases.md', 't...</td>\n",
       "      <td>Which database should I use for graphs?</td>\n",
       "      <td>1</td>\n",
       "      <td>[0.036034671511195875, 0.5314615939241095, 0.4...</td>\n",
       "      <td>You should use **Azure Cosmos DB with the Grem...</td>\n",
       "      <td>What is the recommended managed offering for g...</td>\n",
       "    </tr>\n",
       "    <tr>\n",
       "      <th>4</th>\n",
       "      <td>[{'filename': 'ADR-012 Logging Strategy for ET...</td>\n",
       "      <td>what is an ETL pipeline?</td>\n",
       "      <td>1</td>\n",
       "      <td>[0.03188229001381606, 0.5250100303578046, 0.44...</td>\n",
       "      <td>An ETL pipeline is a data processing framework...</td>\n",
       "      <td>How can we effectively monitor the execution o...</td>\n",
       "    </tr>\n",
       "    <tr>\n",
       "      <th>5</th>\n",
       "      <td>[{'filename': 'ethics-data.md', 'text': '# Eth...</td>\n",
       "      <td>List three use cases for AI in the financial s...</td>\n",
       "      <td>2</td>\n",
       "      <td>[0.033860078641397146, 0.40228940735587326, 0....</td>\n",
       "      <td>Here are three use cases for AI in the financi...</td>\n",
       "      <td>NaN</td>\n",
       "    </tr>\n",
       "    <tr>\n",
       "      <th>6</th>\n",
       "      <td>[{'filename': 'index.md', 'text': '### Structu...</td>\n",
       "      <td>What information should I include in a git com...</td>\n",
       "      <td>2</td>\n",
       "      <td>[0.027917661007111204, 0.35540117165723134, 0....</td>\n",
       "      <td>A good Git commit message should include the f...</td>\n",
       "      <td>NaN</td>\n",
       "    </tr>\n",
       "    <tr>\n",
       "      <th>7</th>\n",
       "      <td>[{'filename': '60-data-analysis-and-feature-en...</td>\n",
       "      <td>Which plot should I use to visualize six distr...</td>\n",
       "      <td>2</td>\n",
       "      <td>[0.016292340500934595, 0.2771850837680961, 0.7...</td>\n",
       "      <td>To visualize six distributions on the same sca...</td>\n",
       "      <td>NaN</td>\n",
       "    </tr>\n",
       "  </tbody>\n",
       "</table>\n",
       "</div>"
      ],
      "text/plain": [
       "                                              chunks  \\\n",
       "0  [{'filename': '01-power-bi.md', 'text': '# Pow...   \n",
       "1  [{'filename': 'retrospectives.md', 'text': '# ...   \n",
       "2  [{'filename': '01-code-generation-libraries.md...   \n",
       "3  [{'filename': 'azure-managed-databases.md', 't...   \n",
       "4  [{'filename': 'ADR-012 Logging Strategy for ET...   \n",
       "5  [{'filename': 'ethics-data.md', 'text': '# Eth...   \n",
       "6  [{'filename': 'index.md', 'text': '### Structu...   \n",
       "7  [{'filename': '60-data-analysis-and-feature-en...   \n",
       "\n",
       "                                               query  scope_prediction  \\\n",
       "0  What is the main reason for avoiding the imple...                 0   \n",
       "1  What is the purpose of the sprint retrospectiv...                 0   \n",
       "2  What are some potential drawbacks of using Lom...                 1   \n",
       "3            Which database should I use for graphs?                 1   \n",
       "4                           what is an ETL pipeline?                 1   \n",
       "5  List three use cases for AI in the financial s...                 2   \n",
       "6  What information should I include in a git com...                 2   \n",
       "7  Which plot should I use to visualize six distr...                 2   \n",
       "\n",
       "                                 scope_probabilities  \\\n",
       "0  [0.6818717116033882, 0.27442004770119843, 0.04...   \n",
       "1  [0.9101098278920184, 0.08663759528188793, 0.00...   \n",
       "2  [0.21397526214846513, 0.6817708980864439, 0.10...   \n",
       "3  [0.036034671511195875, 0.5314615939241095, 0.4...   \n",
       "4  [0.03188229001381606, 0.5250100303578046, 0.44...   \n",
       "5  [0.033860078641397146, 0.40228940735587326, 0....   \n",
       "6  [0.027917661007111204, 0.35540117165723134, 0....   \n",
       "7  [0.016292340500934595, 0.2771850837680961, 0.7...   \n",
       "\n",
       "                                              answer  \\\n",
       "0  The main reason for avoiding the implementatio...   \n",
       "1  The purpose of the Sprint Retrospective in the...   \n",
       "2  Some potential drawbacks of using Lombok in Ja...   \n",
       "3  You should use **Azure Cosmos DB with the Grem...   \n",
       "4  An ETL pipeline is a data processing framework...   \n",
       "5  Here are three use cases for AI in the financi...   \n",
       "6  A good Git commit message should include the f...   \n",
       "7  To visualize six distributions on the same sca...   \n",
       "\n",
       "                                      counterfactual  \n",
       "0                                                NaN  \n",
       "1                                                NaN  \n",
       "2  What are some advantages of using Lombok in Ja...  \n",
       "3  What is the recommended managed offering for g...  \n",
       "4  How can we effectively monitor the execution o...  \n",
       "5                                                NaN  \n",
       "6                                                NaN  \n",
       "7                                                NaN  "
      ]
     },
     "execution_count": 9,
     "metadata": {},
     "output_type": "execute_result"
    }
   ],
   "source": [
    "df"
   ]
  },
  {
   "cell_type": "code",
   "execution_count": null,
   "metadata": {},
   "outputs": [],
   "source": [
    "# export the dataframe to a csv file\n",
    "df.to_csv('rag_usertest_responses.csv', index=False)"
   ]
  }
 ],
 "metadata": {
  "kernelspec": {
   "display_name": "rag--7y4UdRY-py3.13",
   "language": "python",
   "name": "python3"
  },
  "language_info": {
   "codemirror_mode": {
    "name": "ipython",
    "version": 3
   },
   "file_extension": ".py",
   "mimetype": "text/x-python",
   "name": "python",
   "nbconvert_exporter": "python",
   "pygments_lexer": "ipython3",
   "version": "3.13.2"
  }
 },
 "nbformat": 4,
 "nbformat_minor": 2
}
