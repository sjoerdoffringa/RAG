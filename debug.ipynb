{
 "cells": [
  {
   "cell_type": "code",
   "execution_count": 1,
   "metadata": {},
   "outputs": [
    {
     "name": "stderr",
     "output_type": "stream",
     "text": [
      "c:\\Users\\SjoerdO\\AppData\\Local\\pypoetry\\Cache\\virtualenvs\\rag--7y4UdRY-py3.13\\Lib\\site-packages\\tqdm\\auto.py:21: TqdmWarning: IProgress not found. Please update jupyter and ipywidgets. See https://ipywidgets.readthedocs.io/en/stable/user_install.html\n",
      "  from .autonotebook import tqdm as notebook_tqdm\n"
     ]
    }
   ],
   "source": [
    "from rag_module.rag import RAG\n",
    "import os\n",
    "\n",
    "os.environ[\"embedding_path\"] = \"./embeddings/ELOQ_news_partial_2/\""
   ]
  },
  {
   "cell_type": "code",
   "execution_count": 2,
   "metadata": {},
   "outputs": [
    {
     "name": "stdout",
     "output_type": "stream",
     "text": [
      "Loading default flashrank model for language en\n",
      "Default Model: ms-marco-MiniLM-L-12-v2\n",
      "Loading FlashRankRanker model ms-marco-MiniLM-L-12-v2 (this message can be suppressed by setting verbose=0)\n",
      "Loading model FlashRank model ms-marco-MiniLM-L-12-v2...\n",
      "Successfully loaded model from run 73e8819c680c49b2a511a5efbe04876b\n",
      "Loaded features: ['top_sparse_score', 'top_dense_score']\n"
     ]
    }
   ],
   "source": [
    "rag = RAG(scope_model_id='73e8819c680c49b2a511a5efbe04876b')"
   ]
  },
  {
   "cell_type": "code",
   "execution_count": 3,
   "metadata": {},
   "outputs": [
    {
     "data": {
      "text/plain": [
       "384"
      ]
     },
     "execution_count": 3,
     "metadata": {},
     "output_type": "execute_result"
    }
   ],
   "source": [
    "rag.embedder.dim"
   ]
  },
  {
   "cell_type": "code",
   "execution_count": null,
   "metadata": {},
   "outputs": [
    {
     "name": "stderr",
     "output_type": "stream",
     "text": [
      "Batches: 100%|██████████| 22/22 [00:09<00:00,  2.28it/s]\n"
     ]
    }
   ],
   "source": [
    "#rag.embedder._load_index_from_chunkdata()"
   ]
  },
  {
   "cell_type": "code",
   "execution_count": 15,
   "metadata": {},
   "outputs": [
    {
     "name": "stderr",
     "output_type": "stream",
     "text": [
      "Batches: 100%|██████████| 1/1 [00:00<00:00, 76.76it/s]\n"
     ]
    },
    {
     "name": "stdout",
     "output_type": "stream",
     "text": [
      "Features for scope prediction: [np.float64(20.74351302946188), np.float32(1.3893651)]\n"
     ]
    },
    {
     "name": "stderr",
     "output_type": "stream",
     "text": [
      "INFO:httpx:HTTP Request: POST https://api.openai.com/v1/chat/completions \"HTTP/1.1 200 OK\"\n",
      "INFO:httpx:HTTP Request: POST https://api.openai.com/v1/chat/completions \"HTTP/1.1 200 OK\"\n"
     ]
    },
    {
     "data": {
      "text/plain": [
       "{'chunks': [{'filename': 'science_16',\n",
       "   'text': 'Three scientists are honoured for developing a class of blockbuster weight-loss drugs. Is a Nobel prize on the way? Joel Habener (from left), Svetlana Mojsov and Lotte Bjerre Knudsen have won a 2024 Lasker Award for developing a class of drugs that treats obesity, diabetes and more.Credits: Joel Habener, Lori Chertoff for The Rockefeller University, Soren Svendsen\\n\\nThree scientists involved in developing the blockbuster anti-obesity drugs that are currently changing the health-care landscape are among the winners of this year’s prestigious Lasker Awards. The prizes, which honour important advances in medical research, are often considered an indicator of whether a specific advance or scientist will win a Nobel Prize — and some are speculating that this could soon be the case for the weight-loss treatments. The ‘breakthrough’ obesity drugs that have stunned researchers\\n\\nJoel Habener, Svetlana Mojsov and Lotte Bjerre Knudsen each contributed to the creation of the popular anti-obesity drugs, which mimic a hormone called glucagon-like peptide 1 (GLP-1), involved in lowering blood-sugar levels and controlling appetite. The trio, recognized with a Lasker in the clinical-research category, will share a US$250,000 prize. Biomedical scientists are enthusiastic about the increasing recognition of GLP-1 research, which was initially aimed at treating diabetes. “I’ve been working on this for 30 years, and for a long time nobody cared,” says Randy Seeley, an obesity specialist at the University of Michigan in Ann Arbor. “Over the last several years, the situation has changed so much. We now have therapies that are actually helping people.”\\n\\nOther recipients of this year’s Lasker Awards include Zhijian ‘James’ Chen at UT Southwestern Medical Center in Dallas, Texas, who was honoured in the basic-research category for discovering how DNA triggers immune and inflammatory responses.',\n",
       "   'vector_id': 207,\n",
       "   'distance': np.float32(1.3893651),\n",
       "   'score': np.float32(0.99741435)},\n",
       "  {'filename': 'travel_140',\n",
       "   'text': \"Las Vegas' epic Sphere was built as a performance arena, but when nothing is onstage, tourists can visit The Sphere Experience. Here's what to expect and how to plan to see Sphere. The Las Vegas Strip is big on endless construction and it's hot on imploding older buildings. But when it comes to creating memorable visual landmarks, modern Vegas usually folds. After the 1990s heyday of iconic Strip architecture passed, most of the towers erected on Las Vegas Boulevard have looked like lightly themed columns of rooms straddling convention centers, which is essentially what they are. But in 2023, Las Vegas accomplished something it hadn't pulled off in nearly 30 years. The city created a new visual landmark that defines the skyline. When visitors come to Sin City now, all eyes land on Sphere, a gargantuan globe-shaped digital billboard that houses a performance arena. What is Sphere in Las Vegas? Sphere is 516 feet wide and a mammoth 366 feet in height (plus a tiny, federally mandated red aircraft beacon on top, like a hat waring a hat). The exterior is sheathed in a framework of 1.2 million LED pucks (pictured below) capable of illuminating in unison to create luridly colored, Godzilla-size animations visible for dozens of miles away. Inside the venue, there's seating capacity for 17,600, or 20,000 with standing room. The venue's defining feature is the world's largest high-definition display: a wraparound, 160,000-square-foot digital screen that fully envelops your peripheral vision from side to side and above your head. Independent from the light show on Sphere's exterior, the indoor spectacle dazzles the audience with 16K resolution.\",\n",
       "   'vector_id': 469,\n",
       "   'distance': np.float32(1.4495511),\n",
       "   'score': np.float32(0.00024744132)},\n",
       "  {'filename': 'travel_138',\n",
       "   'text': 'Las Vegas\\' Bellagio fountains have company. There\\'s a new public spectacular near the Strip: the Sphere. Here are places to get the best view. The Sphere, a giant illuminated dome that was recently built next to The Venetian Resort, is the new shining star of Las Vegas, adding a brilliant orb of flashing lights to the colorful skyline of The Strip. The Sphere (255 Sands Ave.), simply called Sphere by the people who run it, opened in the summer of 2023 at a reported cost of $2.3 billion and became an instant landmark. Its exterior is covered with 1.2 million multi-color LED lights that are programmed to create ever-changing, awe-inspiring displays. Abstract art, trompe l’oeil, and occasional advertising campaigns swirl across the surface, with the brightest images lighting up around sunset and usually culminating in a recreation of the moon by late night. The effect is both exhilarating and hypnotic, like the world’s most intense screen saver, but one with a sense of humor. But the interior of Sphere is a tourist draw of its own: a massive event venue of up to 17,000 seats across nine levels for concerts and movies. It\\'s being promoted as “the most technologically advanced performance space in the city” based on features including a wraparound LED screen at 16K, the highest resolution in the world at a scale like this, and mechanisms to create \"4-D\" immersive shows using enhanced sound, wind, and aromas. (Click here for our full review of that, including where to sit and how to prepare). It certainly is an enormous space.',\n",
       "   'vector_id': 468,\n",
       "   'distance': np.float32(1.3611348),\n",
       "   'score': np.float32(0.00018304761)}],\n",
       " 'query': 'What are lasker awards?',\n",
       " 'scope_prediction': np.int64(2),\n",
       " 'counterfactual': 'What contributions did the winners of the 2024 Lasker Award make to medical research?',\n",
       " 'answer': 'The Lasker Awards are prestigious honors given annually to individuals or groups who have made significant contributions to medical research. They are often considered a leading indicator of potential future Nobel Prize recipients in the field of medical sciences. The awards recognize important advances across various categories of medical research, including clinical research, basic research, and special contributions to the field. Winners receive a cash prize and are celebrated for their groundbreaking work that impacts health and medicine.'}"
      ]
     },
     "execution_count": 15,
     "metadata": {},
     "output_type": "execute_result"
    }
   ],
   "source": [
    "rag.query(\"What are lasker awards?\")"
   ]
  }
 ],
 "metadata": {
  "kernelspec": {
   "display_name": "rag--7y4UdRY-py3.13",
   "language": "python",
   "name": "python3"
  },
  "language_info": {
   "codemirror_mode": {
    "name": "ipython",
    "version": 3
   },
   "file_extension": ".py",
   "mimetype": "text/x-python",
   "name": "python",
   "nbconvert_exporter": "python",
   "pygments_lexer": "ipython3",
   "version": "3.13.2"
  }
 },
 "nbformat": 4,
 "nbformat_minor": 2
}
