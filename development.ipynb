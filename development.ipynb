{
 "cells": [
  {
   "cell_type": "code",
   "execution_count": 2,
   "metadata": {},
   "outputs": [
    {
     "name": "stderr",
     "output_type": "stream",
     "text": [
      "c:\\Users\\SjoerdO\\AppData\\Local\\pypoetry\\Cache\\virtualenvs\\rag--7y4UdRY-py3.13\\Lib\\site-packages\\tqdm\\auto.py:21: TqdmWarning: IProgress not found. Please update jupyter and ipywidgets. See https://ipywidgets.readthedocs.io/en/stable/user_install.html\n",
      "  from .autonotebook import tqdm as notebook_tqdm\n"
     ]
    }
   ],
   "source": [
    "# libraries\n",
    "import numpy as np\n",
    "import pandas as pd\n",
    "from rag_module.rag import RAG"
   ]
  },
  {
   "cell_type": "markdown",
   "metadata": {},
   "source": [
    "## Inspection"
   ]
  },
  {
   "cell_type": "markdown",
   "metadata": {},
   "source": [
    "### Evaluation"
   ]
  },
  {
   "cell_type": "code",
   "execution_count": 13,
   "metadata": {},
   "outputs": [],
   "source": [
    "rag_configs = [\n",
    "    {\n",
    "        \"name\": \"RAG-bl\",\n",
    "        \"config\": {\"retrieve_top_k\": 15, \"rerank_top_k\": 15, \"use_reranker\": False}\n",
    "    },\n",
    "    {\n",
    "        \"name\": \"RAG-flashrank\",\n",
    "        \"config\": {\"retrieve_top_k\": 15, \"rerank_top_k\": 15, \"use_reranker\": True}\n",
    "    },\n",
    "]\n",
    "\n",
    "lang_queries = [\n",
    "    'What is the main reason for avoiding the implementation of complex business logic within Power BI?',\n",
    "    'Wat is de belangrijkste reden om complexe bedrijfslogica te vermijden in Power BI?',\n",
    "    'What is the purpose of the sprint retrospective in the Scrum process?',\n",
    "    'Wat is het doel van de sprint retrospective in het Scrum-proces?',\n",
    "    'What are some potential drawbacks of using Lombok in Java development?',\n",
    "    'Wat zijn enkele mogelijke nadelen van het gebruik van Lombok in Java-ontwikkeling?',\n",
    "    'Which database should I use for graphs?',\n",
    "    'Welke database moet ik gebruiken voor netwerken?'\n",
    "    ]"
   ]
  },
  {
   "cell_type": "code",
   "execution_count": null,
   "metadata": {},
   "outputs": [],
   "source": [
    "def call_rags(rag_configs, queries, retrieve_only=True) -> pd.DataFrame:\n",
    "    \"\"\"\n",
    "    Given a set of RAG configurations and queries,\n",
    "    create a dataframe with the results of each RAG call.\n",
    "    \"\"\"\n",
    "    results = []\n",
    "    for rag_config in rag_configs:\n",
    "        rag = RAG(**rag_config['config'])\n",
    "        for query in queries:\n",
    "            if retrieve_only:\n",
    "                result = {}\n",
    "                result['chunks'] = rag.retrieve(query)\n",
    "                result['query'] = query\n",
    "            else:\n",
    "                result = rag.query(query)\n",
    "            result['rag_name'] = rag_config['name']\n",
    "            result['rag_config'] = rag_config['config']\n",
    "            results.append(result)\n",
    "\n",
    "    df = pd.DataFrame(results)\n",
    "    df['chunk_ids'] = df['chunks'].apply(lambda chunks: [chunk['vector_id'] for chunk in chunks])\n",
    "    \n",
    "    return df"
   ]
  },
  {
   "cell_type": "code",
   "execution_count": 22,
   "metadata": {},
   "outputs": [
    {
     "name": "stderr",
     "output_type": "stream",
     "text": [
      "INFO:sentence_transformers.SentenceTransformer:Use pytorch device_name: cpu\n",
      "INFO:sentence_transformers.SentenceTransformer:Load pretrained SentenceTransformer: all-MiniLM-L6-v2\n"
     ]
    },
    {
     "name": "stdout",
     "output_type": "stream",
     "text": [
      "Error loading model: Run 'None' not found\n",
      "Error loading scope model: Run 'None' not found\n"
     ]
    },
    {
     "name": "stderr",
     "output_type": "stream",
     "text": [
      "Batches: 100%|██████████| 1/1 [00:00<00:00, 24.74it/s]\n",
      "Batches: 100%|██████████| 1/1 [00:00<00:00, 31.12it/s]\n",
      "Batches: 100%|██████████| 1/1 [00:00<00:00, 34.08it/s]\n",
      "Batches: 100%|██████████| 1/1 [00:00<00:00, 30.61it/s]\n",
      "Batches: 100%|██████████| 1/1 [00:00<00:00, 30.96it/s]\n",
      "Batches: 100%|██████████| 1/1 [00:00<00:00, 25.88it/s]\n",
      "Batches: 100%|██████████| 1/1 [00:00<00:00, 36.90it/s]\n",
      "Batches: 100%|██████████| 1/1 [00:00<00:00, 34.04it/s]\n",
      "INFO:sentence_transformers.SentenceTransformer:Use pytorch device_name: cpu\n",
      "INFO:sentence_transformers.SentenceTransformer:Load pretrained SentenceTransformer: all-MiniLM-L6-v2\n"
     ]
    },
    {
     "name": "stdout",
     "output_type": "stream",
     "text": [
      "Loading default flashrank model for language en\n",
      "Default Model: ms-marco-MiniLM-L-12-v2\n",
      "Loading FlashRankRanker model ms-marco-MiniLM-L-12-v2 (this message can be suppressed by setting verbose=0)\n",
      "Loading model FlashRank model ms-marco-MiniLM-L-12-v2...\n",
      "Error loading model: Run 'None' not found\n",
      "Error loading scope model: Run 'None' not found\n"
     ]
    },
    {
     "name": "stderr",
     "output_type": "stream",
     "text": [
      "Batches: 100%|██████████| 1/1 [00:00<00:00, 26.36it/s]\n",
      "Batches: 100%|██████████| 1/1 [00:00<00:00, 43.80it/s]\n",
      "Batches: 100%|██████████| 1/1 [00:00<00:00, 53.37it/s]\n",
      "Batches: 100%|██████████| 1/1 [00:00<00:00, 50.78it/s]\n",
      "Batches: 100%|██████████| 1/1 [00:00<00:00, 53.59it/s]\n",
      "Batches: 100%|██████████| 1/1 [00:00<00:00, 47.24it/s]\n",
      "Batches: 100%|██████████| 1/1 [00:00<00:00, 54.82it/s]\n",
      "Batches: 100%|██████████| 1/1 [00:00<00:00, 52.10it/s]\n"
     ]
    }
   ],
   "source": [
    "df_lang = call_rags(rag_configs, lang_queries)"
   ]
  },
  {
   "cell_type": "markdown",
   "metadata": {},
   "source": [
    "### rest"
   ]
  },
  {
   "cell_type": "code",
   "execution_count": 7,
   "metadata": {},
   "outputs": [
    {
     "name": "stdout",
     "output_type": "stream",
     "text": [
      "The Alphas from the architecture essence checklist are:\n",
      "\n",
      "1. **Opportunity**\n",
      "2. **Stakeholders**\n",
      "3. **Requirements**\n",
      "4. **SoftwareSystem**\n",
      "5. **Work**\n",
      "6. **WayOfWorking**\n"
     ]
    }
   ],
   "source": [
    "# test ability to read tables\n",
    "q = \"List the Alphas from the architecture essence checklist.\"\n",
    "response = rag.query(q)\n",
    "print(response[\"answer\"])"
   ]
  },
  {
   "cell_type": "code",
   "execution_count": 8,
   "metadata": {},
   "outputs": [
    {
     "name": "stdout",
     "output_type": "stream",
     "text": [
      "The first phase of the essence scan is the \"Inception\" phase. In this phase, the following artifacts exist for the \"Requirements\" Alpha:\n",
      "\n",
      "- [Customer needs](../../03-architecture-guidance/05-artifacts/customer-needs.md)\n",
      "- [Business case](../../03-architecture-guidance/05-artifacts/business-case.md)\n",
      "- [Sales debt](../../03-architecture-guidance/05-artifacts/sales-debt.md)\n"
     ]
    }
   ],
   "source": [
    "# test complex ability to read tables\n",
    "q = \"What is the first phase of the essence scan and which artifacts exist in this phase for the requirements Alpha?\"\n",
    "response = rag.query(q)\n",
    "print(response[\"answer\"])"
   ]
  },
  {
   "cell_type": "code",
   "execution_count": 10,
   "metadata": {},
   "outputs": [
    {
     "name": "stdout",
     "output_type": "stream",
     "text": [
      "Based on the provided context, there is no explicit mention of a specific percentage of lines that can be duplicated during quality control. The context discusses various aspects of quality control, including unit tests, security risks, maintainability, and bug detection. However, it does not provide a numerical guideline for the duplication of lines of code.\n",
      "\n",
      "If you are looking for a general guideline on code duplication, it is often recommended to keep the duplication rate below 10-15% of the total codebase. This is because excessive duplication can lead to maintenance challenges and potential bugs. However, this is a general guideline and may vary depending on the specific context and requirements of your project.\n"
     ]
    }
   ],
   "source": [
    "q = \"What percentage of lines can be duplicated during quality control?\"\n",
    "response = rag.query(q)\n",
    "print(response[\"answer\"])"
   ]
  },
  {
   "cell_type": "code",
   "execution_count": 28,
   "metadata": {},
   "outputs": [
    {
     "data": {
      "text/plain": [
       "{'chunks': [{'filename': 'conventions.md',\n",
       "   'text': '## Definition of quality  \\n- The conventions are captured and maintained.\\n- The conventions are actively applied, reviewed and monitored.',\n",
       "   'vector_id': 905,\n",
       "   'distance': np.float32(1.1529663)},\n",
       "  {'filename': 'architecture-peer-review.md',\n",
       "   'text': '## Definition of quality  \\n- No high impact issues left\\n- Other issues are addressed',\n",
       "   'vector_id': 38,\n",
       "   'distance': np.float32(1.1719854)},\n",
       "  {'filename': '01-automated-quality-control.md',\n",
       "   'text': '## Aggregated quality control  \\nA part of quality control is the unit tests you write to prove the application is doing what it is supposed to do.  \\nHowever, there are more checks to validate the quality of your application:  \\n- Security risks\\n- Maintainability of code\\n- Bug detection  \\nIdeally you would like one tool to determine whether your application has sufficient quality to go to production. One tool to give all the feedback you need to improve your code to meet the quality standards.  \\nThis tool should also determine the quality of your software before it is merged to your main branch.',\n",
       "   'vector_id': 2454,\n",
       "   'distance': np.float32(1.1775377)}],\n",
       " 'query': 'How many lines can be duplicated during quality control?',\n",
       " 'answer': 'The context provided does not specify a limit on the number of lines that can be duplicated during quality control. The focus is more on ensuring that the application meets certain quality standards, such as no high-impact issues, addressing other issues, and maintaining security, maintainability, and bug detection. Therefore, there is no explicit limit on the number of duplicated lines of code during quality control.'}"
      ]
     },
     "execution_count": 28,
     "metadata": {},
     "output_type": "execute_result"
    }
   ],
   "source": [
    "response"
   ]
  },
  {
   "cell_type": "code",
   "execution_count": null,
   "metadata": {},
   "outputs": [
    {
     "name": "stdout",
     "output_type": "stream",
     "text": [
      "{'filename': '01-automated-quality-control.md', 'text': '### Conditions on `new code`  \\nConditions on _new code_ apply to all branches and to Pull Requests.  \\n| Metric | Operator | Value |\\n| -------------------------- | -------- | ----- |\\n| Coverage | >= | 80.0% |\\n| Duplicated Lines (%) | <= | 3.0% |\\n| Maintainability Rating | = | A |\\n| Blocker Issues | = | 0 |\\n| Critical Issues | = | 0 |\\n| Major Issues | = | 0 |\\n| Minor Issues | = | 0 |\\n| Unit Test Success (%) | = | 100% |\\n| Vulnerabilities | = | 0 |\\n| Reliability Rating | = | A |\\n| Security Hotspots Reviewed | = | 100% |\\n| Security Rating | = | A |', 'vector_id': 2465}\n"
     ]
    }
   ],
   "source": [
    "# view chunk with vector id 2465\n",
    "chunk = rag.embedder.chunkdata[2465]\n",
    "print(chunk)"
   ]
  },
  {
   "cell_type": "code",
   "execution_count": 11,
   "metadata": {},
   "outputs": [
    {
     "name": "stdout",
     "output_type": "stream",
     "text": [
      "The MLOps Accelerator is maintained by Willem Meints.\n"
     ]
    }
   ],
   "source": [
    "q = \"Who is the MLOps Accelerator?\"\n",
    "response = rag.query(q)\n",
    "print(response[\"answer\"])"
   ]
  },
  {
   "cell_type": "code",
   "execution_count": 32,
   "metadata": {},
   "outputs": [
    {
     "data": {
      "text/plain": [
       "{'chunks': [{'filename': 'index.md',\n",
       "   'text': '| [MLOps Accelerator](https://gitlab.infosupport.com/guidance-framework/azure-mlops-accelerator) | Willem Meints | <span class=\"status\">Public Preview</span> |  \\n> Please contact maintainers for access to accelerators that are in Private Preview.  \\n> Looking for the .NET Microservice sample app? Microsoft sample apps are now available [here](../04-technology-guidance/02-application-development/03-frameworks/01-microsoft/samples.md).',\n",
       "   'vector_id': 2924,\n",
       "   'distance': np.float32(0.7947072)},\n",
       "  {'filename': 'index.md',\n",
       "   'text': '# Accelerators  \\nAccelerators are sample solutions that contain proven technologies and best practices to help you deliver value quickly.  \\n| Accelerator | Maintainers | Status |\\n| ------------------------------------------------------------------------------------------------------------- | -------------- | :----------------------------------------: |\\n| [Azure iPaaS Accelerator](https://gitlab.infosupport.com/guidance-framework/azure-ipaas-accelerator) | Edwin van Wijk | <span class=\"status\">Public Preview</span> |\\n| [Modern Data Platform Accelerator](https://gitlab.infosupport.com/guidance-framework/azure-dpaas-accelerator) | Willem Meints | <span class=\"status\">Public Preview</span> |',\n",
       "   'vector_id': 2923,\n",
       "   'distance': np.float32(1.0163144)},\n",
       "  {'filename': '30-infrastructure-and-tooling.md',\n",
       "   'text': '- **Model retraining**: models can be tuned and retrained periodically, based on the monitoring results and changes over the data, to refine its performance  \\nMost MLOps services also allow the creation of pipelines, in a CI/CD fashion, where each of the previous steps can be automated.',\n",
       "   'vector_id': 2663,\n",
       "   'distance': np.float32(1.1143125)}],\n",
       " 'query': 'Who is the MLOps Accelerator?',\n",
       " 'answer': 'The MLOps Accelerator is maintained by Willem Meints.'}"
      ]
     },
     "execution_count": 32,
     "metadata": {},
     "output_type": "execute_result"
    }
   ],
   "source": [
    "response"
   ]
  },
  {
   "cell_type": "code",
   "execution_count": 12,
   "metadata": {},
   "outputs": [
    {
     "name": "stdout",
     "output_type": "stream",
     "text": [
      "Ja, Info Support heeft een code style voor Java. De code style wordt vaak geïmplementeerd door het gebruik van een code editor zoals IntelliJ IDEA, die ondersteuning biedt voor code stijl en best practices. Daarnaast kan Info Support gebruik maken van tools zoals Checkstyle, PMD of SpotBugs om de code te controleren en te beïnvloeden op de gewenste code stijl.\n",
      "\n",
      "Als je specifieke vragen hebt over de code stijl van Info Support, kun je deze vragen ook stellen.\n"
     ]
    }
   ],
   "source": [
    "q = \"Heeft Info Support een code style voor Java?\"\n",
    "response = rag.query(q)\n",
    "print(response[\"answer\"])"
   ]
  },
  {
   "cell_type": "code",
   "execution_count": 13,
   "metadata": {},
   "outputs": [
    {
     "data": {
      "text/plain": [
       "{'chunks': [{'filename': '20-coding-conventions.md',\n",
       "   'text': '## Security  \\nFollow the guidelines in\\n[Secure Coding Guidelines](https://www.oracle.com/java/technologies/javase/seccodeguide.html).',\n",
       "   'vector_id': 1146,\n",
       "   'distance': np.float32(0.9801399)},\n",
       "  {'filename': '15-intellij-wsl-and-java.md',\n",
       "   'text': '## Install IntelliJ Ultimate  \\nDownload the IDE here: [IntelliJ IDEA – the Leading Java and Kotlin IDE (\\njetbrains.com)](https://www.jetbrains.com/idea/)',\n",
       "   'vector_id': 1125,\n",
       "   'distance': np.float32(1.0228661)},\n",
       "  {'filename': '01-code-generation-libraries.md',\n",
       "   'text': '## Lombok  \\n[Project Lombok](https://projectlombok.org/) uses Java annotations to save you from writing a lot of boilerplate-style code.\\nIt is implemented as a compiler plug-in (emitting bytecode) and usually added as a dependency in your build system.',\n",
       "   'vector_id': 1341,\n",
       "   'distance': np.float32(1.0401319)}],\n",
       " 'query': 'Heeft Info Support een code style voor Java?',\n",
       " 'answer': 'Ja, Info Support heeft een code style voor Java. De code style wordt vaak geïmplementeerd door het gebruik van een code editor zoals IntelliJ IDEA, die ondersteuning biedt voor code stijl en best practices. Daarnaast kan Info Support gebruik maken van tools zoals Checkstyle, PMD of SpotBugs om de code te controleren en te beïnvloeden op de gewenste code stijl.\\n\\nAls je specifieke vragen hebt over de code stijl van Info Support, kun je deze vragen ook stellen.'}"
      ]
     },
     "execution_count": 13,
     "metadata": {},
     "output_type": "execute_result"
    }
   ],
   "source": [
    "response"
   ]
  },
  {
   "cell_type": "markdown",
   "metadata": {},
   "source": [
    "## Explanations"
   ]
  },
  {
   "cell_type": "code",
   "execution_count": 54,
   "metadata": {},
   "outputs": [
    {
     "data": {
      "text/plain": [
       "array([[0.68523639, 0.27313352, 0.87632006],\n",
       "       [0.94104105, 0.37541759, 0.77899438]])"
      ]
     },
     "execution_count": 54,
     "metadata": {},
     "output_type": "execute_result"
    }
   ],
   "source": [
    "# devide answer into sentences\n",
    "import re\n",
    "\n",
    "def split_into_sentences(text):\n",
    "    sentences = re.split(r'(?<=[.!?])\\s+', text.strip())\n",
    "    return [s for s in sentences if s]  # Remove empty strings\n",
    "\n",
    "sentences = split_into_sentences(response[\"answer\"])\n",
    "\n",
    "# measure similarity between sentences and chunks\n",
    "def similarity(sentence, chunk):\n",
    "    return np.dot(sentence, chunk) / (np.linalg.norm(sentence) * np.linalg.norm(chunk))\n",
    "\n",
    "sentence_vectors = rag.embedder.encode(sentences)\n",
    "chunk_vectors = rag.embedder.encode([chunk[\"text\"] for chunk in response[\"chunks\"]])\n",
    "\n",
    "similarity_matrix = np.zeros((len(sentences), len(chunk_vectors)))\n",
    "\n",
    "for i, sentence in enumerate(sentence_vectors):\n",
    "    for j, chunk in enumerate(chunk_vectors):\n",
    "        similarity_matrix[i, j] = similarity(sentence, chunk)\n",
    "\n",
    "similarity_matrix"
   ]
  },
  {
   "cell_type": "code",
   "execution_count": 55,
   "metadata": {},
   "outputs": [
    {
     "name": "stdout",
     "output_type": "stream",
     "text": [
      "For graph databases, you should use **Azure Cosmos DB with the Gremlin API**.[2] This is the only managed graph database offered in Azure.[0]\n"
     ]
    }
   ],
   "source": [
    "most_similar_chunk = np.argmax(similarity_matrix, axis=1)\n",
    "citations = [f'[{chunk_idx}]' for chunk_idx in most_similar_chunk]\n",
    "cited_sentences = [f\"{sentence}{citation}\" for sentence, citation in zip(sentences, citations)]\n",
    "cited_text = \" \".join(cited_sentences)\n",
    "\n",
    "print(cited_text)"
   ]
  },
  {
   "cell_type": "code",
   "execution_count": 56,
   "metadata": {},
   "outputs": [
    {
     "name": "stdout",
     "output_type": "stream",
     "text": [
      "[2] \n",
      "### Azure Cosmos DB (Gremlin API)  \n",
      "With the [Gremlin API in Azure Cosmos DB](https://docs.microsoft.com/en-us/azure/cosmos-db/graph-introduction) you can create and query large graphs.  \n",
      "> **Guidance:** Use **Azure Cosmos DB with the Gremlin API** for graph databases.\n",
      "> **Why:** This is the only managed graph database offered in Azure.\n",
      "\n",
      "[0] \n",
      "## Graph database  \n",
      "For graph databases there is a single managed offering in Azure.\n",
      "\n"
     ]
    }
   ],
   "source": [
    "# print citations with filenames\n",
    "for i, chunk_idx in enumerate(most_similar_chunk):\n",
    "    chunk = response[\"chunks\"][chunk_idx]\n",
    "    print(f\"[{chunk_idx}] \\n{chunk['text']}\\n\")"
   ]
  },
  {
   "cell_type": "markdown",
   "metadata": {},
   "source": [
    "## Research"
   ]
  },
  {
   "cell_type": "code",
   "execution_count": null,
   "metadata": {},
   "outputs": [
    {
     "name": "stdout",
     "output_type": "stream",
     "text": [
      "number of documents: 2\n",
      "number of chunks: 7427\n",
      "average chunk size: 105.0\n"
     ]
    },
    {
     "data": {
      "image/png": "[encoded data removed]",
      "text/plain": [
       "<Figure size 800x300 with 1 Axes>"
      ]
     },
     "metadata": {},
     "output_type": "display_data"
    }
   ],
   "source": [
    "import matplotlib.pyplot as plt\n",
    "\n",
    "# number of chunks\n",
    "n_chunks = len(rag.embedder.chunkdata)\n",
    "print(f'number of chunks: {n_chunks}')\n",
    "\n",
    "# average chunk size\n",
    "avg_chunk_size = sum([len(chunk['text']) for chunk in rag.embedder.chunkdata]) / n_chunks\n",
    "print(f'average chunk size: {round(avg_chunk_size, 0)}')\n",
    "\n",
    "# plot distribution of chunk sizes\n",
    "plt.figure(figsize=(8,3))  # Set the figure size\n",
    "chunk_sizes = [len(chunk['text']) for chunk in rag.embedder.chunkdata]\n",
    "plt.hist(chunk_sizes, bins=50)\n",
    "plt.xlabel('Chunk size')\n",
    "plt.ylabel('Frequency')\n",
    "plt.title('Distribution of chunk sizes');"
   ]
  },
  {
   "cell_type": "code",
   "execution_count": 1,
   "metadata": {},
   "outputs": [
    {
     "ename": "NameError",
     "evalue": "name 'RAG' is not defined",
     "output_type": "error",
     "traceback": [
      "\u001b[31m---------------------------------------------------------------------------\u001b[39m",
      "\u001b[31mNameError\u001b[39m                                 Traceback (most recent call last)",
      "\u001b[36mCell\u001b[39m\u001b[36m \u001b[39m\u001b[32mIn[1]\u001b[39m\u001b[32m, line 12\u001b[39m\n\u001b[32m      9\u001b[39m \u001b[38;5;66;03m# query rag and query gemini and compare semantic similarity\u001b[39;00m\n\u001b[32m     10\u001b[39m query = \u001b[33m\"\u001b[39m\u001b[33mWhat is XAI in RAG?\u001b[39m\u001b[33m\"\u001b[39m\n\u001b[32m---> \u001b[39m\u001b[32m12\u001b[39m rag = \u001b[43mRAG\u001b[49m()\n\u001b[32m     13\u001b[39m rag_response = rag.query(query, top_k_chunks=\u001b[32m3\u001b[39m)\n\u001b[32m     14\u001b[39m LLM_response = rag.query_LLM(query).content\n",
      "\u001b[31mNameError\u001b[39m: name 'RAG' is not defined"
     ]
    }
   ],
   "source": [
    "def semantic_similarity(text1, text2) -> float:\n",
    "    \"\"\"Calculates the cosine similarity between two text vectors.\"\"\"\n",
    "    embedder = Embedder(\"all-MiniLM-L6-v2\")\n",
    "    vec1 = embedder.encode([text1])\n",
    "    vec2 = embedder.encode([text2])\n",
    "    similarity = np.dot(vec1, vec2.T) / (np.linalg.norm(vec1) * np.linalg.norm(vec2))\n",
    "    return similarity[0][0]\n",
    "\n",
    "# query rag and query gemini and compare semantic similarity\n",
    "query = \"What is XAI in RAG?\"\n",
    "\n",
    "rag = RAG()\n",
    "rag_response = rag.query(query, top_k_chunks=3)\n",
    "LLM_response = rag.query_LLM(query).content\n",
    "similarity = semantic_similarity(rag_response[\"answer\"], LLM_response)\n",
    "print(f\"Semantic similarity between RAG and LLM: {similarity}\")"
   ]
  },
  {
   "cell_type": "code",
   "execution_count": null,
   "metadata": {},
   "outputs": [
    {
     "data": {
      "text/plain": [
       "('Based on the context provided, I am unable to answer the question \"What is XAI in RAG?\". The context provided does not contain any information about XAI or RAG.',\n",
       " 'In the context of Retrieval-Augmented Generation (RAG), XAI stands for **Explainable AI**. It refers to techniques and methods used to understand and explain the reasoning process of the RAG pipeline, specifically focusing on *why* the system retrieved certain documents and *how* those documents influenced the generated output.\\n\\nHere\\'s a breakdown of XAI\\'s role in RAG:\\n\\n*   **Understanding Retrieval:**\\n\\n    *   **Why was this document retrieved?** XAI helps understand the factors that led to the selection of a specific document from the knowledge base.  This might involve highlighting the keywords in the query that matched the document, showing the similarity score, or revealing the specific retrieval algorithm\\'s logic.\\n    *   **What features of the document made it relevant?** Analyzing the document\\'s content, structure, or metadata to pinpoint the elements that contributed to its relevance.\\n    *   **Identifying potential biases in retrieval:**  XAI can uncover biases in the retrieval process, such as favoring certain types of documents or overlooking information due to limitations in the indexing or search mechanisms.\\n\\n*   **Understanding Generation:**\\n\\n    *   **How did the retrieved documents influence the generated answer?**  Tracing the lineage of the generated text back to specific passages in the retrieved documents. This could involve highlighting the portions of the document that were used to form the answer or demonstrating the reasoning chain that connects the retrieved information to the final output.\\n    *   **Why was this specific wording chosen?**  Explaining the generator\\'s choices, considering the context from the retrieved documents and the model\\'s internal knowledge.\\n    *   **Identifying potential hallucinations or inaccuracies:**  XAI can help detect instances where the generated text is not supported by the retrieved documents or contradicts the information in the knowledge base.\\n\\n*   **Benefits of XAI in RAG:**\\n\\n    *   **Improved Trust:**  By providing explanations, XAI increases user trust in the system\\'s output. Users are more likely to accept and rely on the generated answers if they understand how the system arrived at them.\\n    *   **Debugging and Optimization:**  XAI helps developers identify and address issues in the RAG pipeline, such as poor retrieval performance, biases, or generation errors.  Understanding the reasoning process allows for targeted improvements to the retrieval algorithms, knowledge base, or generation model.\\n    *   **Enhanced Transparency:**  XAI promotes transparency by making the RAG system\\'s decision-making process more visible and understandable.\\n    *   **Compliance and Accountability:** In regulated industries, XAI can help ensure that RAG systems are compliant with regulations that require transparency and accountability.\\n    *   **Better Understanding of Model Behavior:** XAI allows researchers to gain a deeper understanding of how language models interact with retrieved knowledge, leading to advancements in RAG techniques.\\n\\n*   **Techniques for XAI in RAG:**\\n\\n    *   **Attention Mechanisms:**  Visualizing attention weights to show which parts of the retrieved documents the generator is focusing on.\\n    *   **Gradient-based methods:**  Using gradients to identify the input features that are most influential in the model\\'s prediction.\\n    *   **Perturbation-based methods:**  Analyzing how the output changes when specific parts of the input (retrieved documents or query) are modified.\\n    *   **Rule-based explanations:**  Developing rules or heuristics to explain the retrieval and generation processes.\\n    *   **Natural language explanations:**  Generating human-readable explanations of the system\\'s reasoning.\\n    *   **Provenance Tracking:**  Maintaining a record of the data sources and processing steps that led to the final output.\\n\\nIn summary, XAI in RAG aims to open the \"black box\" of these complex systems, making them more understandable, trustworthy, and reliable.  It is a crucial aspect of responsible AI development and deployment, particularly in applications where accuracy and transparency are paramount.')"
      ]
     },
     "execution_count": 19,
     "metadata": {},
     "output_type": "execute_result"
    }
   ],
   "source": [
    "rag_response[\"answer\"], LLM_response"
   ]
  }
 ],
 "metadata": {
  "kernelspec": {
   "display_name": "rag--7y4UdRY-py3.13",
   "language": "python",
   "name": "python3"
  },
  "language_info": {
   "codemirror_mode": {
    "name": "ipython",
    "version": 3
   },
   "file_extension": ".py",
   "mimetype": "text/x-python",
   "name": "python",
   "nbconvert_exporter": "python",
   "pygments_lexer": "ipython3",
   "version": "3.13.2"
  }
 },
 "nbformat": 4,
 "nbformat_minor": 2
}
