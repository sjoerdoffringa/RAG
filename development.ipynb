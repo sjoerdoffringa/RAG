{
 "cells": [
  {
   "cell_type": "code",
   "execution_count": 1,
   "metadata": {},
   "outputs": [
    {
     "name": "stderr",
     "output_type": "stream",
     "text": [
      "c:\\Users\\SjoerdO\\AppData\\Local\\pypoetry\\Cache\\virtualenvs\\rag--7y4UdRY-py3.13\\Lib\\site-packages\\tqdm\\auto.py:21: TqdmWarning: IProgress not found. Please update jupyter and ipywidgets. See https://ipywidgets.readthedocs.io/en/stable/user_install.html\n",
      "  from .autonotebook import tqdm as notebook_tqdm\n"
     ]
    }
   ],
   "source": [
    "# libraries\n",
    "import os\n",
    "import numpy as np\n",
    "from rag_module.rag import RAG"
   ]
  },
  {
   "cell_type": "markdown",
   "metadata": {},
   "source": [
    "## Inspection"
   ]
  },
  {
   "cell_type": "code",
   "execution_count": 5,
   "metadata": {},
   "outputs": [
    {
     "name": "stderr",
     "output_type": "stream",
     "text": [
      "INFO:sentence_transformers.SentenceTransformer:Use pytorch device_name: cpu\n",
      "INFO:sentence_transformers.SentenceTransformer:Load pretrained SentenceTransformer: all-MiniLM-L6-v2\n",
      "Batches: 100%|██████████| 1/1 [00:00<00:00, 47.12it/s]\n",
      "INFO:httpx:HTTP Request: POST https://api.openai.com/v1/chat/completions \"HTTP/1.1 200 OK\"\n"
     ]
    },
    {
     "data": {
      "text/plain": [
       "{'chunks': [{'filename': '03-regions.md',\n",
       "   'text': '## Choosing a suitable region  \\nSome regions are being used more than others. The `West Europe` region is a popular region often used as the default region by Dutch (and other European) parties. But this is a heavily used region that sometimes runs out of capacity. When this happens, you are not able to deploy new instances of certain resources. This is a continuity risk for your customers.  \\nIn order to mitigate this risk, make sure you plan ahead and always consider use of multiple regions. You could for instance deploy your _production_ environments to `West Europe` (because this region introduces the least amount of network latency for instance) and all _development_ and _test_ environments to another region. Good alternative regions to use are `France Central` or `Sweden Central`.  \\n> **Guideline:** Consider using multiple Azure regions in your Azure deployment strategy.\\n> **Why:** Mitigate the risk of not being able to deploy additional resources because of a capacity issue in a region.  \\nTake into consideration that some resources are only available in some regions. New resources are often only introduced in the so-called \"hero\" regions. Make sure you always select a region that offers all the resources you need for your particular situation.',\n",
       "   'vector_id': 1839,\n",
       "   'distance': np.float32(1.6400269)},\n",
       "  {'filename': 'ComplexityPoints.md',\n",
       "   'text': '## Documents  \\n- [Complexity Point Sheet](/documents/Complexity_Points_Projectnaam.xlsx) (Dutch)\\n- [Complexity Point User guide](/documents/Complexity_Points_User_guide.pptx) (Dutch)',\n",
       "   'vector_id': 1029,\n",
       "   'distance': np.float32(1.6457734)},\n",
       "  {'filename': '01a-azure-cost-management.md',\n",
       "   'text': '### Virtual machine  \\nAn example of upgrading an existing Standard_D3 VM.  \\n| Size | CPU | Memory (GiB) | Temp disk (GiB) | €/month | [Index](https://nl.wikipedia.org/wiki/Indexcijfer) |\\n| :--------------- | --: | -----------: | --------------: | ------: | -------------------------------------------------: |\\n| Standard_D3 | 4 | 14 | 200 | 388 | 100 |\\n| Standard_D3_v2 | 4 | 14 | 200 | 349 | 90 |\\n| Standard_D4_v3 | 4 | 16 | 100 | 277 | 71 |\\n| Standard_D4_v5 | 4 | 16 | 0 | 271 | 70 |\\n| Standard_D4as_v5 | 4 | 16 | 0 | 257 | 66 |  \\nUpgrading from a **Standard_D3** VM to a **Standard_D4as_v5** VM will save of almost **€1.600**/year,\\njust by upgrading to newer hardware version.',\n",
       "   'vector_id': 1853,\n",
       "   'distance': np.float32(1.6980221)}],\n",
       " 'query': 'What is the capital of France?',\n",
       " 'answer': 'The capital of France is Paris.'}"
      ]
     },
     "execution_count": 5,
     "metadata": {},
     "output_type": "execute_result"
    }
   ],
   "source": [
    "# simple test\n",
    "rag = RAG(use_reranker=False)\n",
    "rag.query(\"What is the capital of France?\")"
   ]
  },
  {
   "cell_type": "markdown",
   "metadata": {},
   "source": [
    "### Evaluation"
   ]
  },
  {
   "cell_type": "code",
   "execution_count": 5,
   "metadata": {},
   "outputs": [],
   "source": [
    "import pandas as pd"
   ]
  },
  {
   "cell_type": "code",
   "execution_count": null,
   "metadata": {},
   "outputs": [],
   "source": [
    "queries = [\n",
    "    'Which database should be used for graphs?',\n",
    "    'Welke database moet ik gebruiken voor grafieken?',\n",
    "    'Welke database moet ik gebruiken voor graphs?'\n",
    "    ]\n",
    "\n",
    "df = pd.DataFrame(queries, columns=[\"Query\"])\n",
    "df.to_excel(\"./evaluation/evaluation.xlsx\", index=False)"
   ]
  },
  {
   "cell_type": "code",
   "execution_count": null,
   "metadata": {},
   "outputs": [],
   "source": [
    "df = pd.read_excel(\"./evaluation/evaluation.xlsx\")\n",
    "queries = df[\"Query\"].tolist()"
   ]
  },
  {
   "cell_type": "code",
   "execution_count": 11,
   "metadata": {},
   "outputs": [
    {
     "name": "stderr",
     "output_type": "stream",
     "text": [
      "INFO:sentence_transformers.SentenceTransformer:Use pytorch device_name: cpu\n",
      "INFO:sentence_transformers.SentenceTransformer:Load pretrained SentenceTransformer: all-MiniLM-L6-v2\n",
      "INFO:sentence_transformers.SentenceTransformer:Use pytorch device_name: cpu\n",
      "INFO:sentence_transformers.SentenceTransformer:Load pretrained SentenceTransformer: all-MiniLM-L6-v2\n"
     ]
    },
    {
     "name": "stdout",
     "output_type": "stream",
     "text": [
      "Loading default flashrank model for language en\n",
      "Default Model: ms-marco-MiniLM-L-12-v2\n",
      "Loading FlashRankRanker model ms-marco-MiniLM-L-12-v2 (this message can be suppressed by setting verbose=0)\n",
      "Loading model FlashRank model ms-marco-MiniLM-L-12-v2...\n"
     ]
    },
    {
     "name": "stderr",
     "output_type": "stream",
     "text": [
      "INFO:sentence_transformers.SentenceTransformer:Use pytorch device_name: cpu\n",
      "INFO:sentence_transformers.SentenceTransformer:Load pretrained SentenceTransformer: all-MiniLM-L6-v2\n"
     ]
    },
    {
     "name": "stdout",
     "output_type": "stream",
     "text": [
      "Loading default cross-encoder model for language en\n",
      "Warning: Model type could not be auto-mapped with the defaults list. Defaulting to TransformerRanker.\n",
      "If your model is NOT intended to be ran as a one-label cross-encoder, please reload it and specify the model_type! Otherwise, you may ignore this warning. You may specify `model_type='cross-encoder'` to suppress this warning in the future.\n",
      "Default Model: mixedbread-ai/mxbai-rerank-base-v1\n",
      "Loading TransformerRanker model mixedbread-ai/mxbai-rerank-base-v1 (this message can be suppressed by setting verbose=0)\n",
      "No device set\n",
      "Using device cpu\n",
      "No dtype set\n",
      "Using dtype torch.float32\n",
      "Loaded model mixedbread-ai/mxbai-rerank-base-v1\n",
      "Using device cpu.\n",
      "Using dtype torch.float32.\n"
     ]
    },
    {
     "name": "stderr",
     "output_type": "stream",
     "text": [
      "INFO:sentence_transformers.SentenceTransformer:Use pytorch device_name: cpu\n",
      "INFO:sentence_transformers.SentenceTransformer:Load pretrained SentenceTransformer: all-MiniLM-L6-v2\n"
     ]
    },
    {
     "name": "stdout",
     "output_type": "stream",
     "text": [
      "Loading default cross-encoder model for language en\n",
      "Warning: Model type could not be auto-mapped with the defaults list. Defaulting to TransformerRanker.\n",
      "If your model is NOT intended to be ran as a one-label cross-encoder, please reload it and specify the model_type! Otherwise, you may ignore this warning. You may specify `model_type='cross-encoder'` to suppress this warning in the future.\n",
      "Default Model: mixedbread-ai/mxbai-rerank-base-v1\n",
      "Loading TransformerRanker model mixedbread-ai/mxbai-rerank-base-v1 (this message can be suppressed by setting verbose=0)\n",
      "No device set\n",
      "Using device cpu\n",
      "No dtype set\n",
      "Using dtype torch.float32\n",
      "Loaded model mixedbread-ai/mxbai-rerank-base-v1\n",
      "Using device cpu.\n",
      "Using dtype torch.float32.\n"
     ]
    }
   ],
   "source": [
    "# RAGs to evaluate\n",
    "rags = {\n",
    "    \"RAG-bl\": RAG(use_reranker=False),\n",
    "    \"RAG-1\": RAG(reranker_name=\"flashrank\", retrieve_top_k=15),\n",
    "    \"RAG-2\": RAG(reranker_name=\"cross-encoder\", retrieve_top_k=15),\n",
    "    \"RAG-3\": RAG(reranker_name=\"cross-encoder\", retrieve_top_k=30)\n",
    "}"
   ]
  },
  {
   "cell_type": "code",
   "execution_count": null,
   "metadata": {},
   "outputs": [],
   "source": [
    "def consistency_check(rag, queries):\n",
    "    responses = [rag.query(query) for query in queries]\n",
    "    answers = [response[\"answer\"] for response in responses]\n",
    "    vector_ids = [[chunk['vector_id'] for chunk in response['chunks']] for response in responses]\n",
    "    n_unique_vectors = [len(set(ids)) for ids in vector_ids]\n",
    "    return answers, vector_ids, n_unique_vectors\n",
    "\n",
    "for i, rag in enumerate(rags):\n",
    "    answers, vector_ids, n_unique_vectors = consistency_check(rag, queries)\n",
    "    print(f\"Answers: {answers}\")\n",
    "    print(f\"Vector IDs: {vector_ids}\")\n",
    "    print(f\"Unique vectors: {n_unique_vectors}\")\n",
    "    print(\"\")"
   ]
  },
  {
   "cell_type": "code",
   "execution_count": 7,
   "metadata": {},
   "outputs": [
    {
     "data": {
      "text/html": [
       "<div>\n",
       "<style scoped>\n",
       "    .dataframe tbody tr th:only-of-type {\n",
       "        vertical-align: middle;\n",
       "    }\n",
       "\n",
       "    .dataframe tbody tr th {\n",
       "        vertical-align: top;\n",
       "    }\n",
       "\n",
       "    .dataframe thead th {\n",
       "        text-align: right;\n",
       "    }\n",
       "</style>\n",
       "<table border=\"1\" class=\"dataframe\">\n",
       "  <thead>\n",
       "    <tr style=\"text-align: right;\">\n",
       "      <th></th>\n",
       "      <th>question</th>\n",
       "      <th>answer</th>\n",
       "      <th>chunk_id</th>\n",
       "      <th>chunk_text</th>\n",
       "    </tr>\n",
       "  </thead>\n",
       "  <tbody>\n",
       "    <tr>\n",
       "      <th>0</th>\n",
       "      <td>What are some advantages and disadvantages of ...</td>\n",
       "      <td>### Advantages of Using Web Components:\\n\\n1. ...</td>\n",
       "      <td>995</td>\n",
       "      <td>## Framework vs. Web components  \\nOnce you've...</td>\n",
       "    </tr>\n",
       "    <tr>\n",
       "      <th>1</th>\n",
       "      <td>What are the advantages of using Lombok's `@lo...</td>\n",
       "      <td>Using Lombok's `@lombok.Data` annotation offer...</td>\n",
       "      <td>1342</td>\n",
       "      <td>### Example  \\nFor example, by adding [`@lombo...</td>\n",
       "    </tr>\n",
       "    <tr>\n",
       "      <th>2</th>\n",
       "      <td>What is the importance of differentiating betw...</td>\n",
       "      <td>Differentiating between business and technical...</td>\n",
       "      <td>347</td>\n",
       "      <td># System scope &amp; Context  \\n**Contents**  \\nSy...</td>\n",
       "    </tr>\n",
       "    <tr>\n",
       "      <th>3</th>\n",
       "      <td>What are the recommended storage formats for s...</td>\n",
       "      <td>For tabular datasets, the recommended storage ...</td>\n",
       "      <td>1925</td>\n",
       "      <td>### Dataset storage formats for tabular data  ...</td>\n",
       "    </tr>\n",
       "    <tr>\n",
       "      <th>4</th>\n",
       "      <td>What are the key strategies for eliminating wa...</td>\n",
       "      <td>The key strategies for eliminating waste in th...</td>\n",
       "      <td>1486</td>\n",
       "      <td>### Eliminate waste  \\n- Partially done work d...</td>\n",
       "    </tr>\n",
       "  </tbody>\n",
       "</table>\n",
       "</div>"
      ],
      "text/plain": [
       "                                            question  \\\n",
       "0  What are some advantages and disadvantages of ...   \n",
       "1  What are the advantages of using Lombok's `@lo...   \n",
       "2  What is the importance of differentiating betw...   \n",
       "3  What are the recommended storage formats for s...   \n",
       "4  What are the key strategies for eliminating wa...   \n",
       "\n",
       "                                              answer  chunk_id  \\\n",
       "0  ### Advantages of Using Web Components:\\n\\n1. ...       995   \n",
       "1  Using Lombok's `@lombok.Data` annotation offer...      1342   \n",
       "2  Differentiating between business and technical...       347   \n",
       "3  For tabular datasets, the recommended storage ...      1925   \n",
       "4  The key strategies for eliminating waste in th...      1486   \n",
       "\n",
       "                                          chunk_text  \n",
       "0  ## Framework vs. Web components  \\nOnce you've...  \n",
       "1  ### Example  \\nFor example, by adding [`@lombo...  \n",
       "2  # System scope & Context  \\n**Contents**  \\nSy...  \n",
       "3  ### Dataset storage formats for tabular data  ...  \n",
       "4  ### Eliminate waste  \\n- Partially done work d...  "
      ]
     },
     "execution_count": 7,
     "metadata": {},
     "output_type": "execute_result"
    }
   ],
   "source": [
    "#dfqa = pd.read_csv('./evaluation/QA_sets/250305120857.csv')\n",
    "dfqa = pd.read_csv('./evaluation/QA_sets/250318173604.csv')\n",
    "dfqa.head()"
   ]
  },
  {
   "cell_type": "code",
   "execution_count": 14,
   "metadata": {},
   "outputs": [
    {
     "data": {
      "application/vnd.jupyter.widget-view+json": {
       "model_id": "d793c5deef15489997c02711f80531f9",
       "version_major": 2,
       "version_minor": 0
      },
      "text/plain": [
       "Batches:   0%|          | 0/1 [00:00<?, ?it/s]"
      ]
     },
     "metadata": {},
     "output_type": "display_data"
    },
    {
     "data": {
      "application/vnd.jupyter.widget-view+json": {
       "model_id": "355acd207a9e464d9c8781908375a98d",
       "version_major": 2,
       "version_minor": 0
      },
      "text/plain": [
       "Batches:   0%|          | 0/1 [00:00<?, ?it/s]"
      ]
     },
     "metadata": {},
     "output_type": "display_data"
    },
    {
     "data": {
      "application/vnd.jupyter.widget-view+json": {
       "model_id": "ad651b7f6e1e43188afefd6fa31ebe04",
       "version_major": 2,
       "version_minor": 0
      },
      "text/plain": [
       "Batches:   0%|          | 0/1 [00:00<?, ?it/s]"
      ]
     },
     "metadata": {},
     "output_type": "display_data"
    },
    {
     "data": {
      "application/vnd.jupyter.widget-view+json": {
       "model_id": "5347c984e73a40498f8e2d51d03d3eb8",
       "version_major": 2,
       "version_minor": 0
      },
      "text/plain": [
       "Batches:   0%|          | 0/1 [00:00<?, ?it/s]"
      ]
     },
     "metadata": {},
     "output_type": "display_data"
    },
    {
     "data": {
      "application/vnd.jupyter.widget-view+json": {
       "model_id": "7e35b70dd5264560874a740313c41a00",
       "version_major": 2,
       "version_minor": 0
      },
      "text/plain": [
       "Batches:   0%|          | 0/1 [00:00<?, ?it/s]"
      ]
     },
     "metadata": {},
     "output_type": "display_data"
    },
    {
     "data": {
      "application/vnd.jupyter.widget-view+json": {
       "model_id": "4189ed762ace46c0854673a4983b5ec2",
       "version_major": 2,
       "version_minor": 0
      },
      "text/plain": [
       "Batches:   0%|          | 0/1 [00:00<?, ?it/s]"
      ]
     },
     "metadata": {},
     "output_type": "display_data"
    },
    {
     "data": {
      "application/vnd.jupyter.widget-view+json": {
       "model_id": "3ecbaab8f04e4563b93cf284fd681fa1",
       "version_major": 2,
       "version_minor": 0
      },
      "text/plain": [
       "Batches:   0%|          | 0/1 [00:00<?, ?it/s]"
      ]
     },
     "metadata": {},
     "output_type": "display_data"
    },
    {
     "data": {
      "application/vnd.jupyter.widget-view+json": {
       "model_id": "a2251c33d12b4805ae71359ad18e2755",
       "version_major": 2,
       "version_minor": 0
      },
      "text/plain": [
       "Batches:   0%|          | 0/1 [00:00<?, ?it/s]"
      ]
     },
     "metadata": {},
     "output_type": "display_data"
    },
    {
     "data": {
      "application/vnd.jupyter.widget-view+json": {
       "model_id": "3d0716081c5e4256bc22b350a1aa2c87",
       "version_major": 2,
       "version_minor": 0
      },
      "text/plain": [
       "Batches:   0%|          | 0/1 [00:00<?, ?it/s]"
      ]
     },
     "metadata": {},
     "output_type": "display_data"
    },
    {
     "data": {
      "application/vnd.jupyter.widget-view+json": {
       "model_id": "3788e48b5e97471594ed69921255efba",
       "version_major": 2,
       "version_minor": 0
      },
      "text/plain": [
       "Batches:   0%|          | 0/1 [00:00<?, ?it/s]"
      ]
     },
     "metadata": {},
     "output_type": "display_data"
    },
    {
     "data": {
      "application/vnd.jupyter.widget-view+json": {
       "model_id": "f9b9368ebd8d4b1db70abe14447f00a6",
       "version_major": 2,
       "version_minor": 0
      },
      "text/plain": [
       "Batches:   0%|          | 0/1 [00:00<?, ?it/s]"
      ]
     },
     "metadata": {},
     "output_type": "display_data"
    },
    {
     "data": {
      "application/vnd.jupyter.widget-view+json": {
       "model_id": "3aad6ec85fc74343bc0a74ca73c62de7",
       "version_major": 2,
       "version_minor": 0
      },
      "text/plain": [
       "Batches:   0%|          | 0/1 [00:00<?, ?it/s]"
      ]
     },
     "metadata": {},
     "output_type": "display_data"
    },
    {
     "data": {
      "application/vnd.jupyter.widget-view+json": {
       "model_id": "b2485f7792f445c592e1ae88622e6a60",
       "version_major": 2,
       "version_minor": 0
      },
      "text/plain": [
       "Batches:   0%|          | 0/1 [00:00<?, ?it/s]"
      ]
     },
     "metadata": {},
     "output_type": "display_data"
    },
    {
     "data": {
      "application/vnd.jupyter.widget-view+json": {
       "model_id": "b65a980a01b34bb4b4c4463dad1ca8fa",
       "version_major": 2,
       "version_minor": 0
      },
      "text/plain": [
       "Batches:   0%|          | 0/1 [00:00<?, ?it/s]"
      ]
     },
     "metadata": {},
     "output_type": "display_data"
    },
    {
     "data": {
      "application/vnd.jupyter.widget-view+json": {
       "model_id": "88eeea4a943d4cbb819aa456416ffbaf",
       "version_major": 2,
       "version_minor": 0
      },
      "text/plain": [
       "Batches:   0%|          | 0/1 [00:00<?, ?it/s]"
      ]
     },
     "metadata": {},
     "output_type": "display_data"
    },
    {
     "data": {
      "application/vnd.jupyter.widget-view+json": {
       "model_id": "62def173cde849cd8befab2c6fe681a4",
       "version_major": 2,
       "version_minor": 0
      },
      "text/plain": [
       "Batches:   0%|          | 0/1 [00:00<?, ?it/s]"
      ]
     },
     "metadata": {},
     "output_type": "display_data"
    },
    {
     "data": {
      "application/vnd.jupyter.widget-view+json": {
       "model_id": "fddbf1c4c7fa44aa87688bfcaf3dccb1",
       "version_major": 2,
       "version_minor": 0
      },
      "text/plain": [
       "Batches:   0%|          | 0/1 [00:00<?, ?it/s]"
      ]
     },
     "metadata": {},
     "output_type": "display_data"
    },
    {
     "data": {
      "application/vnd.jupyter.widget-view+json": {
       "model_id": "a2235b321a034de991d936a32924c21b",
       "version_major": 2,
       "version_minor": 0
      },
      "text/plain": [
       "Batches:   0%|          | 0/1 [00:00<?, ?it/s]"
      ]
     },
     "metadata": {},
     "output_type": "display_data"
    },
    {
     "data": {
      "application/vnd.jupyter.widget-view+json": {
       "model_id": "62d0690f2ea14afbb561f639f831cab0",
       "version_major": 2,
       "version_minor": 0
      },
      "text/plain": [
       "Batches:   0%|          | 0/1 [00:00<?, ?it/s]"
      ]
     },
     "metadata": {},
     "output_type": "display_data"
    },
    {
     "data": {
      "application/vnd.jupyter.widget-view+json": {
       "model_id": "c9b5185d37aa4e679db0096c527238a2",
       "version_major": 2,
       "version_minor": 0
      },
      "text/plain": [
       "Batches:   0%|          | 0/1 [00:00<?, ?it/s]"
      ]
     },
     "metadata": {},
     "output_type": "display_data"
    },
    {
     "data": {
      "application/vnd.jupyter.widget-view+json": {
       "model_id": "4bd1eb9a76ff4509af2e30ecafd6ffc0",
       "version_major": 2,
       "version_minor": 0
      },
      "text/plain": [
       "Batches:   0%|          | 0/1 [00:00<?, ?it/s]"
      ]
     },
     "metadata": {},
     "output_type": "display_data"
    },
    {
     "data": {
      "application/vnd.jupyter.widget-view+json": {
       "model_id": "c519167a4fc64735bda8d736f76a7f23",
       "version_major": 2,
       "version_minor": 0
      },
      "text/plain": [
       "Batches:   0%|          | 0/1 [00:00<?, ?it/s]"
      ]
     },
     "metadata": {},
     "output_type": "display_data"
    },
    {
     "data": {
      "application/vnd.jupyter.widget-view+json": {
       "model_id": "d5f9bea432b4402c8c6b57d28f52bb47",
       "version_major": 2,
       "version_minor": 0
      },
      "text/plain": [
       "Batches:   0%|          | 0/1 [00:00<?, ?it/s]"
      ]
     },
     "metadata": {},
     "output_type": "display_data"
    },
    {
     "data": {
      "application/vnd.jupyter.widget-view+json": {
       "model_id": "7f4d8f432d6f40d1bae9bed643af3269",
       "version_major": 2,
       "version_minor": 0
      },
      "text/plain": [
       "Batches:   0%|          | 0/1 [00:00<?, ?it/s]"
      ]
     },
     "metadata": {},
     "output_type": "display_data"
    },
    {
     "data": {
      "application/vnd.jupyter.widget-view+json": {
       "model_id": "dab497a934a4490580a9360efe95e53a",
       "version_major": 2,
       "version_minor": 0
      },
      "text/plain": [
       "Batches:   0%|          | 0/1 [00:00<?, ?it/s]"
      ]
     },
     "metadata": {},
     "output_type": "display_data"
    },
    {
     "data": {
      "application/vnd.jupyter.widget-view+json": {
       "model_id": "aa67deeb7ccc4e2d89ea0f9dc3281c19",
       "version_major": 2,
       "version_minor": 0
      },
      "text/plain": [
       "Batches:   0%|          | 0/1 [00:00<?, ?it/s]"
      ]
     },
     "metadata": {},
     "output_type": "display_data"
    },
    {
     "data": {
      "application/vnd.jupyter.widget-view+json": {
       "model_id": "8da0e8bb8a424009afc1dab38a50a50e",
       "version_major": 2,
       "version_minor": 0
      },
      "text/plain": [
       "Batches:   0%|          | 0/1 [00:00<?, ?it/s]"
      ]
     },
     "metadata": {},
     "output_type": "display_data"
    },
    {
     "data": {
      "application/vnd.jupyter.widget-view+json": {
       "model_id": "974c9511c97043fd84bb3250cb0f6c85",
       "version_major": 2,
       "version_minor": 0
      },
      "text/plain": [
       "Batches:   0%|          | 0/1 [00:00<?, ?it/s]"
      ]
     },
     "metadata": {},
     "output_type": "display_data"
    },
    {
     "data": {
      "application/vnd.jupyter.widget-view+json": {
       "model_id": "81512bbf44b844c39a35ad6f9cbeef96",
       "version_major": 2,
       "version_minor": 0
      },
      "text/plain": [
       "Batches:   0%|          | 0/1 [00:00<?, ?it/s]"
      ]
     },
     "metadata": {},
     "output_type": "display_data"
    },
    {
     "data": {
      "application/vnd.jupyter.widget-view+json": {
       "model_id": "3cb89da675584550befea602c6d63b76",
       "version_major": 2,
       "version_minor": 0
      },
      "text/plain": [
       "Batches:   0%|          | 0/1 [00:00<?, ?it/s]"
      ]
     },
     "metadata": {},
     "output_type": "display_data"
    },
    {
     "data": {
      "application/vnd.jupyter.widget-view+json": {
       "model_id": "bc454f68db664283b686f499a39a4bb4",
       "version_major": 2,
       "version_minor": 0
      },
      "text/plain": [
       "Batches:   0%|          | 0/1 [00:00<?, ?it/s]"
      ]
     },
     "metadata": {},
     "output_type": "display_data"
    },
    {
     "data": {
      "application/vnd.jupyter.widget-view+json": {
       "model_id": "484e1ded59994776995de8f8462691e1",
       "version_major": 2,
       "version_minor": 0
      },
      "text/plain": [
       "Batches:   0%|          | 0/1 [00:00<?, ?it/s]"
      ]
     },
     "metadata": {},
     "output_type": "display_data"
    },
    {
     "data": {
      "application/vnd.jupyter.widget-view+json": {
       "model_id": "f697e5fb598f498489ad61ed9cf089b4",
       "version_major": 2,
       "version_minor": 0
      },
      "text/plain": [
       "Batches:   0%|          | 0/1 [00:00<?, ?it/s]"
      ]
     },
     "metadata": {},
     "output_type": "display_data"
    },
    {
     "data": {
      "application/vnd.jupyter.widget-view+json": {
       "model_id": "421d3d2af24d450cbda591bc2829e613",
       "version_major": 2,
       "version_minor": 0
      },
      "text/plain": [
       "Batches:   0%|          | 0/1 [00:00<?, ?it/s]"
      ]
     },
     "metadata": {},
     "output_type": "display_data"
    },
    {
     "data": {
      "application/vnd.jupyter.widget-view+json": {
       "model_id": "2b9ce2254c4b402384f639d1d713e36e",
       "version_major": 2,
       "version_minor": 0
      },
      "text/plain": [
       "Batches:   0%|          | 0/1 [00:00<?, ?it/s]"
      ]
     },
     "metadata": {},
     "output_type": "display_data"
    },
    {
     "data": {
      "application/vnd.jupyter.widget-view+json": {
       "model_id": "1f997940af84461787046c5d3774dc42",
       "version_major": 2,
       "version_minor": 0
      },
      "text/plain": [
       "Batches:   0%|          | 0/1 [00:00<?, ?it/s]"
      ]
     },
     "metadata": {},
     "output_type": "display_data"
    },
    {
     "data": {
      "application/vnd.jupyter.widget-view+json": {
       "model_id": "ed496810deaa474bb8a3bf7a7939058b",
       "version_major": 2,
       "version_minor": 0
      },
      "text/plain": [
       "Batches:   0%|          | 0/1 [00:00<?, ?it/s]"
      ]
     },
     "metadata": {},
     "output_type": "display_data"
    },
    {
     "data": {
      "application/vnd.jupyter.widget-view+json": {
       "model_id": "f11f48b666794d2797a4027366592d12",
       "version_major": 2,
       "version_minor": 0
      },
      "text/plain": [
       "Batches:   0%|          | 0/1 [00:00<?, ?it/s]"
      ]
     },
     "metadata": {},
     "output_type": "display_data"
    },
    {
     "data": {
      "application/vnd.jupyter.widget-view+json": {
       "model_id": "964fd6b2ee01472b81a8571346523bc5",
       "version_major": 2,
       "version_minor": 0
      },
      "text/plain": [
       "Batches:   0%|          | 0/1 [00:00<?, ?it/s]"
      ]
     },
     "metadata": {},
     "output_type": "display_data"
    },
    {
     "data": {
      "application/vnd.jupyter.widget-view+json": {
       "model_id": "28fc2abefe3a4cc3be1740fa8bf96e80",
       "version_major": 2,
       "version_minor": 0
      },
      "text/plain": [
       "Batches:   0%|          | 0/1 [00:00<?, ?it/s]"
      ]
     },
     "metadata": {},
     "output_type": "display_data"
    },
    {
     "data": {
      "application/vnd.jupyter.widget-view+json": {
       "model_id": "c06d65b1f06c437fa34d5e9d750acdc9",
       "version_major": 2,
       "version_minor": 0
      },
      "text/plain": [
       "Batches:   0%|          | 0/1 [00:00<?, ?it/s]"
      ]
     },
     "metadata": {},
     "output_type": "display_data"
    },
    {
     "data": {
      "application/vnd.jupyter.widget-view+json": {
       "model_id": "f54f075e0a8c4bc58232dd789089febe",
       "version_major": 2,
       "version_minor": 0
      },
      "text/plain": [
       "Batches:   0%|          | 0/1 [00:00<?, ?it/s]"
      ]
     },
     "metadata": {},
     "output_type": "display_data"
    },
    {
     "data": {
      "application/vnd.jupyter.widget-view+json": {
       "model_id": "18eb2a674cd6409d9f3d231e17bc0c06",
       "version_major": 2,
       "version_minor": 0
      },
      "text/plain": [
       "Batches:   0%|          | 0/1 [00:00<?, ?it/s]"
      ]
     },
     "metadata": {},
     "output_type": "display_data"
    },
    {
     "data": {
      "application/vnd.jupyter.widget-view+json": {
       "model_id": "05482c186dc848b8bb23b04c20a279c3",
       "version_major": 2,
       "version_minor": 0
      },
      "text/plain": [
       "Batches:   0%|          | 0/1 [00:00<?, ?it/s]"
      ]
     },
     "metadata": {},
     "output_type": "display_data"
    },
    {
     "data": {
      "application/vnd.jupyter.widget-view+json": {
       "model_id": "5c7e9102d8c94cf689e3192a79c8357d",
       "version_major": 2,
       "version_minor": 0
      },
      "text/plain": [
       "Batches:   0%|          | 0/1 [00:00<?, ?it/s]"
      ]
     },
     "metadata": {},
     "output_type": "display_data"
    },
    {
     "data": {
      "application/vnd.jupyter.widget-view+json": {
       "model_id": "52260d5faa66455cbb843cde0da7e788",
       "version_major": 2,
       "version_minor": 0
      },
      "text/plain": [
       "Batches:   0%|          | 0/1 [00:00<?, ?it/s]"
      ]
     },
     "metadata": {},
     "output_type": "display_data"
    },
    {
     "data": {
      "application/vnd.jupyter.widget-view+json": {
       "model_id": "1b79468abcf646ddb87c546553b9151e",
       "version_major": 2,
       "version_minor": 0
      },
      "text/plain": [
       "Batches:   0%|          | 0/1 [00:00<?, ?it/s]"
      ]
     },
     "metadata": {},
     "output_type": "display_data"
    },
    {
     "data": {
      "application/vnd.jupyter.widget-view+json": {
       "model_id": "1132be4a3970499fafdc8388c841327b",
       "version_major": 2,
       "version_minor": 0
      },
      "text/plain": [
       "Batches:   0%|          | 0/1 [00:00<?, ?it/s]"
      ]
     },
     "metadata": {},
     "output_type": "display_data"
    },
    {
     "data": {
      "application/vnd.jupyter.widget-view+json": {
       "model_id": "424ee5ab4d4148749054f919bdc52bd1",
       "version_major": 2,
       "version_minor": 0
      },
      "text/plain": [
       "Batches:   0%|          | 0/1 [00:00<?, ?it/s]"
      ]
     },
     "metadata": {},
     "output_type": "display_data"
    },
    {
     "data": {
      "application/vnd.jupyter.widget-view+json": {
       "model_id": "c540463c640d434e93b4e69eaf0adea1",
       "version_major": 2,
       "version_minor": 0
      },
      "text/plain": [
       "Batches:   0%|          | 0/1 [00:00<?, ?it/s]"
      ]
     },
     "metadata": {},
     "output_type": "display_data"
    },
    {
     "data": {
      "application/vnd.jupyter.widget-view+json": {
       "model_id": "4870e0de8391414f84e66a4883fdacd4",
       "version_major": 2,
       "version_minor": 0
      },
      "text/plain": [
       "Batches:   0%|          | 0/1 [00:00<?, ?it/s]"
      ]
     },
     "metadata": {},
     "output_type": "display_data"
    },
    {
     "data": {
      "application/vnd.jupyter.widget-view+json": {
       "model_id": "a7984010f91a4926820834ded4d938a3",
       "version_major": 2,
       "version_minor": 0
      },
      "text/plain": [
       "Batches:   0%|          | 0/1 [00:00<?, ?it/s]"
      ]
     },
     "metadata": {},
     "output_type": "display_data"
    },
    {
     "data": {
      "application/vnd.jupyter.widget-view+json": {
       "model_id": "54e572d325af471ebd8049aaeccfa398",
       "version_major": 2,
       "version_minor": 0
      },
      "text/plain": [
       "Batches:   0%|          | 0/1 [00:00<?, ?it/s]"
      ]
     },
     "metadata": {},
     "output_type": "display_data"
    },
    {
     "data": {
      "application/vnd.jupyter.widget-view+json": {
       "model_id": "11dfd171c7e14b5c854d8f41d42f4ea9",
       "version_major": 2,
       "version_minor": 0
      },
      "text/plain": [
       "Batches:   0%|          | 0/1 [00:00<?, ?it/s]"
      ]
     },
     "metadata": {},
     "output_type": "display_data"
    },
    {
     "data": {
      "application/vnd.jupyter.widget-view+json": {
       "model_id": "92706eca8edf4e74ba5426e47d6c7219",
       "version_major": 2,
       "version_minor": 0
      },
      "text/plain": [
       "Batches:   0%|          | 0/1 [00:00<?, ?it/s]"
      ]
     },
     "metadata": {},
     "output_type": "display_data"
    },
    {
     "data": {
      "application/vnd.jupyter.widget-view+json": {
       "model_id": "56ccceb1c3354a6ead3c0b05ff5605e7",
       "version_major": 2,
       "version_minor": 0
      },
      "text/plain": [
       "Batches:   0%|          | 0/1 [00:00<?, ?it/s]"
      ]
     },
     "metadata": {},
     "output_type": "display_data"
    },
    {
     "data": {
      "application/vnd.jupyter.widget-view+json": {
       "model_id": "f3c90074dfaf4da8b19842f743258cb8",
       "version_major": 2,
       "version_minor": 0
      },
      "text/plain": [
       "Batches:   0%|          | 0/1 [00:00<?, ?it/s]"
      ]
     },
     "metadata": {},
     "output_type": "display_data"
    },
    {
     "data": {
      "application/vnd.jupyter.widget-view+json": {
       "model_id": "a129ed936bbe4de38555e9ab672744aa",
       "version_major": 2,
       "version_minor": 0
      },
      "text/plain": [
       "Batches:   0%|          | 0/1 [00:00<?, ?it/s]"
      ]
     },
     "metadata": {},
     "output_type": "display_data"
    },
    {
     "data": {
      "application/vnd.jupyter.widget-view+json": {
       "model_id": "3f551a15dc5d40efb17f90be3670be6a",
       "version_major": 2,
       "version_minor": 0
      },
      "text/plain": [
       "Batches:   0%|          | 0/1 [00:00<?, ?it/s]"
      ]
     },
     "metadata": {},
     "output_type": "display_data"
    },
    {
     "data": {
      "application/vnd.jupyter.widget-view+json": {
       "model_id": "9f5a6bc0adab4e6ab1a3a74da3e922bb",
       "version_major": 2,
       "version_minor": 0
      },
      "text/plain": [
       "Batches:   0%|          | 0/1 [00:00<?, ?it/s]"
      ]
     },
     "metadata": {},
     "output_type": "display_data"
    },
    {
     "data": {
      "application/vnd.jupyter.widget-view+json": {
       "model_id": "c90b0e88a0bd41c4af0c8caa43a8c4ff",
       "version_major": 2,
       "version_minor": 0
      },
      "text/plain": [
       "Batches:   0%|          | 0/1 [00:00<?, ?it/s]"
      ]
     },
     "metadata": {},
     "output_type": "display_data"
    },
    {
     "data": {
      "application/vnd.jupyter.widget-view+json": {
       "model_id": "17ad63f059024e168db52ad6c7b39bd8",
       "version_major": 2,
       "version_minor": 0
      },
      "text/plain": [
       "Batches:   0%|          | 0/1 [00:00<?, ?it/s]"
      ]
     },
     "metadata": {},
     "output_type": "display_data"
    },
    {
     "data": {
      "application/vnd.jupyter.widget-view+json": {
       "model_id": "2fa09199cf7b4232a8ce79efc460d7b9",
       "version_major": 2,
       "version_minor": 0
      },
      "text/plain": [
       "Batches:   0%|          | 0/1 [00:00<?, ?it/s]"
      ]
     },
     "metadata": {},
     "output_type": "display_data"
    },
    {
     "data": {
      "application/vnd.jupyter.widget-view+json": {
       "model_id": "1c06d9b7294241f3906c7331bf2a58fd",
       "version_major": 2,
       "version_minor": 0
      },
      "text/plain": [
       "Batches:   0%|          | 0/1 [00:00<?, ?it/s]"
      ]
     },
     "metadata": {},
     "output_type": "display_data"
    },
    {
     "data": {
      "application/vnd.jupyter.widget-view+json": {
       "model_id": "522634b2011d449eafa028770d7f9ca9",
       "version_major": 2,
       "version_minor": 0
      },
      "text/plain": [
       "Batches:   0%|          | 0/1 [00:00<?, ?it/s]"
      ]
     },
     "metadata": {},
     "output_type": "display_data"
    },
    {
     "data": {
      "application/vnd.jupyter.widget-view+json": {
       "model_id": "4ba6027c2d794b8d94cc95051ddb6ab0",
       "version_major": 2,
       "version_minor": 0
      },
      "text/plain": [
       "Batches:   0%|          | 0/1 [00:00<?, ?it/s]"
      ]
     },
     "metadata": {},
     "output_type": "display_data"
    },
    {
     "data": {
      "application/vnd.jupyter.widget-view+json": {
       "model_id": "f951c0b141d3474a8bf0615966e1a8d9",
       "version_major": 2,
       "version_minor": 0
      },
      "text/plain": [
       "Batches:   0%|          | 0/1 [00:00<?, ?it/s]"
      ]
     },
     "metadata": {},
     "output_type": "display_data"
    },
    {
     "data": {
      "application/vnd.jupyter.widget-view+json": {
       "model_id": "b3f304800c2549a0a0c037b9cd7b73ba",
       "version_major": 2,
       "version_minor": 0
      },
      "text/plain": [
       "Batches:   0%|          | 0/1 [00:00<?, ?it/s]"
      ]
     },
     "metadata": {},
     "output_type": "display_data"
    },
    {
     "data": {
      "application/vnd.jupyter.widget-view+json": {
       "model_id": "6ab75a13e0b541528ab5205d8242b2f8",
       "version_major": 2,
       "version_minor": 0
      },
      "text/plain": [
       "Batches:   0%|          | 0/1 [00:00<?, ?it/s]"
      ]
     },
     "metadata": {},
     "output_type": "display_data"
    },
    {
     "data": {
      "application/vnd.jupyter.widget-view+json": {
       "model_id": "32faaba0a09f4e00b22dd6daaa081c51",
       "version_major": 2,
       "version_minor": 0
      },
      "text/plain": [
       "Batches:   0%|          | 0/1 [00:00<?, ?it/s]"
      ]
     },
     "metadata": {},
     "output_type": "display_data"
    },
    {
     "data": {
      "application/vnd.jupyter.widget-view+json": {
       "model_id": "0b63e4f822cd41d4a06de8b5671f5c48",
       "version_major": 2,
       "version_minor": 0
      },
      "text/plain": [
       "Batches:   0%|          | 0/1 [00:00<?, ?it/s]"
      ]
     },
     "metadata": {},
     "output_type": "display_data"
    },
    {
     "data": {
      "application/vnd.jupyter.widget-view+json": {
       "model_id": "d5df84e6283e411ca571a2bab461f06e",
       "version_major": 2,
       "version_minor": 0
      },
      "text/plain": [
       "Batches:   0%|          | 0/1 [00:00<?, ?it/s]"
      ]
     },
     "metadata": {},
     "output_type": "display_data"
    },
    {
     "data": {
      "application/vnd.jupyter.widget-view+json": {
       "model_id": "cb67f3565cb34600867965516c39c70b",
       "version_major": 2,
       "version_minor": 0
      },
      "text/plain": [
       "Batches:   0%|          | 0/1 [00:00<?, ?it/s]"
      ]
     },
     "metadata": {},
     "output_type": "display_data"
    },
    {
     "data": {
      "application/vnd.jupyter.widget-view+json": {
       "model_id": "1aa185e5b83f42df8057f6cb408be383",
       "version_major": 2,
       "version_minor": 0
      },
      "text/plain": [
       "Batches:   0%|          | 0/1 [00:00<?, ?it/s]"
      ]
     },
     "metadata": {},
     "output_type": "display_data"
    },
    {
     "data": {
      "application/vnd.jupyter.widget-view+json": {
       "model_id": "00250bef6d844963b1369bf11db45e36",
       "version_major": 2,
       "version_minor": 0
      },
      "text/plain": [
       "Batches:   0%|          | 0/1 [00:00<?, ?it/s]"
      ]
     },
     "metadata": {},
     "output_type": "display_data"
    },
    {
     "data": {
      "application/vnd.jupyter.widget-view+json": {
       "model_id": "08215a2e5327495097be40a43e862def",
       "version_major": 2,
       "version_minor": 0
      },
      "text/plain": [
       "Batches:   0%|          | 0/1 [00:00<?, ?it/s]"
      ]
     },
     "metadata": {},
     "output_type": "display_data"
    },
    {
     "data": {
      "application/vnd.jupyter.widget-view+json": {
       "model_id": "66574b6b7fd4447e875cee386ace48b0",
       "version_major": 2,
       "version_minor": 0
      },
      "text/plain": [
       "Batches:   0%|          | 0/1 [00:00<?, ?it/s]"
      ]
     },
     "metadata": {},
     "output_type": "display_data"
    },
    {
     "data": {
      "application/vnd.jupyter.widget-view+json": {
       "model_id": "e12aeb571e7a4fa0a62fb1979d3837f6",
       "version_major": 2,
       "version_minor": 0
      },
      "text/plain": [
       "Batches:   0%|          | 0/1 [00:00<?, ?it/s]"
      ]
     },
     "metadata": {},
     "output_type": "display_data"
    },
    {
     "data": {
      "application/vnd.jupyter.widget-view+json": {
       "model_id": "94ce1ac82b184bb1b821f719f8f14f82",
       "version_major": 2,
       "version_minor": 0
      },
      "text/plain": [
       "Batches:   0%|          | 0/1 [00:00<?, ?it/s]"
      ]
     },
     "metadata": {},
     "output_type": "display_data"
    },
    {
     "data": {
      "application/vnd.jupyter.widget-view+json": {
       "model_id": "793e77902b0c4702a2af988716975501",
       "version_major": 2,
       "version_minor": 0
      },
      "text/plain": [
       "Batches:   0%|          | 0/1 [00:00<?, ?it/s]"
      ]
     },
     "metadata": {},
     "output_type": "display_data"
    }
   ],
   "source": [
    "queries = dfqa[\"question\"].tolist()\n",
    "\n",
    "for rag_name, rag in rags.items():\n",
    "    all_chunk_ids = []\n",
    "    for q in queries:\n",
    "        chunks = rag.retrieve(q)\n",
    "        chunk_ids = [chunk[\"vector_id\"] for chunk in chunks]\n",
    "        all_chunk_ids.append(chunk_ids)\n",
    "    dfqa[rag_name] = all_chunk_ids"
   ]
  },
  {
   "cell_type": "code",
   "execution_count": null,
   "metadata": {},
   "outputs": [
    {
     "data": {
      "application/vnd.jupyter.widget-view+json": {
       "model_id": "3b161c48bf104690bf47221cdd74a71b",
       "version_major": 2,
       "version_minor": 0
      },
      "text/plain": [
       "Batches:   0%|          | 0/1 [00:00<?, ?it/s]"
      ]
     },
     "metadata": {},
     "output_type": "display_data"
    },
    {
     "data": {
      "application/vnd.jupyter.widget-view+json": {
       "model_id": "98656848bb9446e09142e4a57fd62760",
       "version_major": 2,
       "version_minor": 0
      },
      "text/plain": [
       "Batches:   0%|          | 0/1 [00:00<?, ?it/s]"
      ]
     },
     "metadata": {},
     "output_type": "display_data"
    },
    {
     "data": {
      "application/vnd.jupyter.widget-view+json": {
       "model_id": "014e8faefb104e11bf5657caa7fce40f",
       "version_major": 2,
       "version_minor": 0
      },
      "text/plain": [
       "Batches:   0%|          | 0/1 [00:00<?, ?it/s]"
      ]
     },
     "metadata": {},
     "output_type": "display_data"
    },
    {
     "data": {
      "application/vnd.jupyter.widget-view+json": {
       "model_id": "9b8eff90422c45c8bcc02296f7987d08",
       "version_major": 2,
       "version_minor": 0
      },
      "text/plain": [
       "Batches:   0%|          | 0/1 [00:00<?, ?it/s]"
      ]
     },
     "metadata": {},
     "output_type": "display_data"
    },
    {
     "data": {
      "application/vnd.jupyter.widget-view+json": {
       "model_id": "d84560f20a6545d98f10d057459ac0e0",
       "version_major": 2,
       "version_minor": 0
      },
      "text/plain": [
       "Batches:   0%|          | 0/1 [00:00<?, ?it/s]"
      ]
     },
     "metadata": {},
     "output_type": "display_data"
    },
    {
     "name": "stdout",
     "output_type": "stream",
     "text": [
      "Recall for RAG-1: 1.0\n"
     ]
    },
    {
     "data": {
      "application/vnd.jupyter.widget-view+json": {
       "model_id": "9dbe9594f36d437595223264308a3dbb",
       "version_major": 2,
       "version_minor": 0
      },
      "text/plain": [
       "Batches:   0%|          | 0/1 [00:00<?, ?it/s]"
      ]
     },
     "metadata": {},
     "output_type": "display_data"
    },
    {
     "data": {
      "application/vnd.jupyter.widget-view+json": {
       "model_id": "5b6f1812b7ca42838a6a7036a93844f3",
       "version_major": 2,
       "version_minor": 0
      },
      "text/plain": [
       "Batches:   0%|          | 0/1 [00:00<?, ?it/s]"
      ]
     },
     "metadata": {},
     "output_type": "display_data"
    },
    {
     "data": {
      "application/vnd.jupyter.widget-view+json": {
       "model_id": "28f29bb11d014082a97d080537a09fab",
       "version_major": 2,
       "version_minor": 0
      },
      "text/plain": [
       "Batches:   0%|          | 0/1 [00:00<?, ?it/s]"
      ]
     },
     "metadata": {},
     "output_type": "display_data"
    },
    {
     "data": {
      "application/vnd.jupyter.widget-view+json": {
       "model_id": "7477b4a119a84e2896a2ee6d778c4baa",
       "version_major": 2,
       "version_minor": 0
      },
      "text/plain": [
       "Batches:   0%|          | 0/1 [00:00<?, ?it/s]"
      ]
     },
     "metadata": {},
     "output_type": "display_data"
    },
    {
     "data": {
      "application/vnd.jupyter.widget-view+json": {
       "model_id": "92c69e6668ef4b9fb5ba6d5d31500da9",
       "version_major": 2,
       "version_minor": 0
      },
      "text/plain": [
       "Batches:   0%|          | 0/1 [00:00<?, ?it/s]"
      ]
     },
     "metadata": {},
     "output_type": "display_data"
    },
    {
     "name": "stdout",
     "output_type": "stream",
     "text": [
      "Recall for RAG-2: 0.8\n"
     ]
    },
    {
     "data": {
      "application/vnd.jupyter.widget-view+json": {
       "model_id": "ed6a63b8d96841aab74c8df0b6b7e179",
       "version_major": 2,
       "version_minor": 0
      },
      "text/plain": [
       "Batches:   0%|          | 0/1 [00:00<?, ?it/s]"
      ]
     },
     "metadata": {},
     "output_type": "display_data"
    },
    {
     "data": {
      "application/vnd.jupyter.widget-view+json": {
       "model_id": "ffecf0d35d9443fda6b411253068d182",
       "version_major": 2,
       "version_minor": 0
      },
      "text/plain": [
       "Batches:   0%|          | 0/1 [00:00<?, ?it/s]"
      ]
     },
     "metadata": {},
     "output_type": "display_data"
    },
    {
     "data": {
      "application/vnd.jupyter.widget-view+json": {
       "model_id": "2342420cd3fe487abc26efa6f423e966",
       "version_major": 2,
       "version_minor": 0
      },
      "text/plain": [
       "Batches:   0%|          | 0/1 [00:00<?, ?it/s]"
      ]
     },
     "metadata": {},
     "output_type": "display_data"
    },
    {
     "data": {
      "application/vnd.jupyter.widget-view+json": {
       "model_id": "9101b14c667a41138b85e9b0fd1dcdb6",
       "version_major": 2,
       "version_minor": 0
      },
      "text/plain": [
       "Batches:   0%|          | 0/1 [00:00<?, ?it/s]"
      ]
     },
     "metadata": {},
     "output_type": "display_data"
    },
    {
     "data": {
      "application/vnd.jupyter.widget-view+json": {
       "model_id": "2041885bee0a4950addeb069bc62a3d0",
       "version_major": 2,
       "version_minor": 0
      },
      "text/plain": [
       "Batches:   0%|          | 0/1 [00:00<?, ?it/s]"
      ]
     },
     "metadata": {},
     "output_type": "display_data"
    },
    {
     "name": "stdout",
     "output_type": "stream",
     "text": [
      "Recall for RAG-3: 0.8\n"
     ]
    }
   ],
   "source": [
    "queries = dfqa[\"question\"].tolist()\n",
    "\n",
    "for rag_name, rag in rags.items():\n",
    "    responses = [rag.query(query) for query in queries]\n",
    "    answers = [response[\"answer\"] for response in responses]\n",
    "    vector_ids = [[chunk['vector_id'] for chunk in response['chunks']] for response in responses]\n",
    "    recall_scores = [int(chunk_id in ids) for chunk_id, ids in zip(dfqa['chunk_id'], vector_ids)]\n",
    "    dfqa[f\"{rag_name} Answer\"] = answers\n",
    "    dfqa[f\"{rag_name} Vector IDs\"] = vector_ids\n",
    "    dfqa[f\"{rag_name} Recall\"] = recall_scores\n",
    "    print(f\"Recall for {rag_name}: {dfqa[f'{rag_name} Recall'].mean()}\")"
   ]
  },
  {
   "cell_type": "code",
   "execution_count": 19,
   "metadata": {},
   "outputs": [
    {
     "data": {
      "text/html": [
       "<div>\n",
       "<style scoped>\n",
       "    .dataframe tbody tr th:only-of-type {\n",
       "        vertical-align: middle;\n",
       "    }\n",
       "\n",
       "    .dataframe tbody tr th {\n",
       "        vertical-align: top;\n",
       "    }\n",
       "\n",
       "    .dataframe thead th {\n",
       "        text-align: right;\n",
       "    }\n",
       "</style>\n",
       "<table border=\"1\" class=\"dataframe\">\n",
       "  <thead>\n",
       "    <tr style=\"text-align: right;\">\n",
       "      <th></th>\n",
       "      <th>question</th>\n",
       "      <th>answer</th>\n",
       "      <th>chunk_id</th>\n",
       "      <th>chunk_text</th>\n",
       "      <th>RAG-bl</th>\n",
       "      <th>RAG-1</th>\n",
       "      <th>RAG-2</th>\n",
       "      <th>RAG-3</th>\n",
       "    </tr>\n",
       "  </thead>\n",
       "  <tbody>\n",
       "    <tr>\n",
       "      <th>0</th>\n",
       "      <td>What are some advantages and disadvantages of ...</td>\n",
       "      <td>### Advantages of Using Web Components:\\n\\n1. ...</td>\n",
       "      <td>995</td>\n",
       "      <td>## Framework vs. Web components  \\nOnce you've...</td>\n",
       "      <td>[995, 994, 993]</td>\n",
       "      <td>[995, 993, 994]</td>\n",
       "      <td>[995, 1265, 2071]</td>\n",
       "      <td>[995, 1265, 2071]</td>\n",
       "    </tr>\n",
       "    <tr>\n",
       "      <th>1</th>\n",
       "      <td>What are the advantages of using Lombok's `@lo...</td>\n",
       "      <td>Using Lombok's `@lombok.Data` annotation offer...</td>\n",
       "      <td>1342</td>\n",
       "      <td>### Example  \\nFor example, by adding [`@lombo...</td>\n",
       "      <td>[1342, 1344, 1343]</td>\n",
       "      <td>[1342, 1344, 1341]</td>\n",
       "      <td>[1342, 1341, 1344]</td>\n",
       "      <td>[1342, 1341, 1344]</td>\n",
       "    </tr>\n",
       "    <tr>\n",
       "      <th>2</th>\n",
       "      <td>What is the importance of differentiating betw...</td>\n",
       "      <td>Differentiating between business and technical...</td>\n",
       "      <td>347</td>\n",
       "      <td># System scope &amp; Context  \\n**Contents**  \\nSy...</td>\n",
       "      <td>[347, 902, 377]</td>\n",
       "      <td>[347, 902, 1019]</td>\n",
       "      <td>[347, 515, 690]</td>\n",
       "      <td>[347, 515, 690]</td>\n",
       "    </tr>\n",
       "    <tr>\n",
       "      <th>3</th>\n",
       "      <td>What are the recommended storage formats for s...</td>\n",
       "      <td>For tabular datasets, the recommended storage ...</td>\n",
       "      <td>1925</td>\n",
       "      <td>### Dataset storage formats for tabular data  ...</td>\n",
       "      <td>[1925, 1921, 1563]</td>\n",
       "      <td>[1925, 216, 1926]</td>\n",
       "      <td>[1925, 216, 1413]</td>\n",
       "      <td>[1925, 1412, 216]</td>\n",
       "    </tr>\n",
       "    <tr>\n",
       "      <th>4</th>\n",
       "      <td>What are the key strategies for eliminating wa...</td>\n",
       "      <td>The key strategies for eliminating waste in th...</td>\n",
       "      <td>1486</td>\n",
       "      <td>### Eliminate waste  \\n- Partially done work d...</td>\n",
       "      <td>[1486, 1485, 273]</td>\n",
       "      <td>[1486, 1484, 1485]</td>\n",
       "      <td>[1486, 1484, 1485]</td>\n",
       "      <td>[1486, 1484, 1485]</td>\n",
       "    </tr>\n",
       "    <tr>\n",
       "      <th>5</th>\n",
       "      <td>What is the first step to take when selecting ...</td>\n",
       "      <td>The first step to take when selecting an SMTP ...</td>\n",
       "      <td>1614</td>\n",
       "      <td>## Check solutions in place  \\nFirst step in s...</td>\n",
       "      <td>[1615, 1614, 1622]</td>\n",
       "      <td>[1614, 1615, 1622]</td>\n",
       "      <td>[1614, 1615, 1613]</td>\n",
       "      <td>[1614, 1615, 1613]</td>\n",
       "    </tr>\n",
       "    <tr>\n",
       "      <th>6</th>\n",
       "      <td>How does the implementation of open ecosystems...</td>\n",
       "      <td>The implementation of open ecosystems like Ope...</td>\n",
       "      <td>1658</td>\n",
       "      <td>### Making observability actionable and scalab...</td>\n",
       "      <td>[1658, 1624, 1864]</td>\n",
       "      <td>[1658, 1624, 1653]</td>\n",
       "      <td>[1658, 1624, 1653]</td>\n",
       "      <td>[1658, 1657, 1624]</td>\n",
       "    </tr>\n",
       "    <tr>\n",
       "      <th>7</th>\n",
       "      <td>What are some key features of VoiceOver, the b...</td>\n",
       "      <td>VoiceOver, the built-in screen reader on iOS, ...</td>\n",
       "      <td>1396</td>\n",
       "      <td>### VoiceOver (iOS)  \\nVoiceOver is the built-...</td>\n",
       "      <td>[1396, 1397, 1395]</td>\n",
       "      <td>[1396, 1397, 1395]</td>\n",
       "      <td>[1396, 1398, 1397]</td>\n",
       "      <td>[1396, 1398, 1397]</td>\n",
       "    </tr>\n",
       "    <tr>\n",
       "      <th>8</th>\n",
       "      <td>What is the process for uninstalling the old v...</td>\n",
       "      <td>To uninstall the old version of Java installed...</td>\n",
       "      <td>1126</td>\n",
       "      <td>## WSL Configuration  \\n### Java installation ...</td>\n",
       "      <td>[1126, 1121, 1122]</td>\n",
       "      <td>[1126, 1123, 1130]</td>\n",
       "      <td>[1126, 1123, 1130]</td>\n",
       "      <td>[1126, 1127, 1123]</td>\n",
       "    </tr>\n",
       "    <tr>\n",
       "      <th>9</th>\n",
       "      <td>What is the purpose of the provided XML snippe...</td>\n",
       "      <td>The provided XML snippet serves the purpose of...</td>\n",
       "      <td>1452</td>\n",
       "      <td>### Logging error responses  \\nBy default the ...</td>\n",
       "      <td>[1452, 1284, 1668]</td>\n",
       "      <td>[1452, 1447, 1284]</td>\n",
       "      <td>[1452, 1231, 1447]</td>\n",
       "      <td>[1452, 1231, 1447]</td>\n",
       "    </tr>\n",
       "    <tr>\n",
       "      <th>10</th>\n",
       "      <td>What challenges does the team face after their...</td>\n",
       "      <td>After their plane crashes in the mountainous r...</td>\n",
       "      <td>420</td>\n",
       "      <td>### Game instructions:  \\nThe facilitator expl...</td>\n",
       "      <td>[420, 414, 461]</td>\n",
       "      <td>[420, 421, 486]</td>\n",
       "      <td>[420, 417, 541]</td>\n",
       "      <td>[420, 417, 534]</td>\n",
       "    </tr>\n",
       "    <tr>\n",
       "      <th>11</th>\n",
       "      <td>What is the recommended approach for concatena...</td>\n",
       "      <td>The recommended approach for concatenating str...</td>\n",
       "      <td>1137</td>\n",
       "      <td>### String Data Type  \\n- Use the [+ operator]...</td>\n",
       "      <td>[1137, 1105, 1148]</td>\n",
       "      <td>[1137, 1105, 1998]</td>\n",
       "      <td>[1137, 1136, 1105]</td>\n",
       "      <td>[1137, 1136, 1105]</td>\n",
       "    </tr>\n",
       "    <tr>\n",
       "      <th>12</th>\n",
       "      <td>What is the recommended logging strategy to en...</td>\n",
       "      <td>The recommended logging strategy to ensure ava...</td>\n",
       "      <td>1671</td>\n",
       "      <td>## Ensure availability  \\nIn addition to the d...</td>\n",
       "      <td>[1671, 1672, 1662]</td>\n",
       "      <td>[1671, 1672, 331]</td>\n",
       "      <td>[1671, 331, 1662]</td>\n",
       "      <td>[1671, 331, 1662]</td>\n",
       "    </tr>\n",
       "    <tr>\n",
       "      <th>13</th>\n",
       "      <td>What are the key differences between Power BI ...</td>\n",
       "      <td>The key differences between Power BI service, ...</td>\n",
       "      <td>1595</td>\n",
       "      <td>### Power BI (Premium) vs SQL Server Reporting...</td>\n",
       "      <td>[1595, 1594, 1581]</td>\n",
       "      <td>[1595, 1593, 1594]</td>\n",
       "      <td>[1595, 1593, 1580]</td>\n",
       "      <td>[1595, 1593, 1580]</td>\n",
       "    </tr>\n",
       "    <tr>\n",
       "      <th>14</th>\n",
       "      <td>What are the key benefits of flattening JSON d...</td>\n",
       "      <td>The key benefits of flattening JSON data, as o...</td>\n",
       "      <td>250</td>\n",
       "      <td>## Decision Rationale  \\n1. **Query Performanc...</td>\n",
       "      <td>[251, 253, 250]</td>\n",
       "      <td>[250, 260, 249]</td>\n",
       "      <td>[250, 253, 251]</td>\n",
       "      <td>[250, 253, 251]</td>\n",
       "    </tr>\n",
       "    <tr>\n",
       "      <th>15</th>\n",
       "      <td>What steps should you take to check if Maven i...</td>\n",
       "      <td>To check if Maven is already installed before ...</td>\n",
       "      <td>1127</td>\n",
       "      <td>### Maven  \\nBefore attempting to install the ...</td>\n",
       "      <td>[1127, 1073, 1070]</td>\n",
       "      <td>[1127, 1130, 1070]</td>\n",
       "      <td>[1127, 1130, 1069]</td>\n",
       "      <td>[1127, 1130, 1069]</td>\n",
       "    </tr>\n",
       "    <tr>\n",
       "      <th>16</th>\n",
       "      <td>What is the purpose of writing unit tests acco...</td>\n",
       "      <td>The purpose of writing unit tests, according t...</td>\n",
       "      <td>1256</td>\n",
       "      <td># Unit testing  \\nUnit tests should be written...</td>\n",
       "      <td>[1256, 185, 1257]</td>\n",
       "      <td>[1256, 1246, 1242]</td>\n",
       "      <td>[1256, 185, 1759]</td>\n",
       "      <td>[1256, 185, 2050]</td>\n",
       "    </tr>\n",
       "    <tr>\n",
       "      <th>17</th>\n",
       "      <td>What is the main purpose of Specification by E...</td>\n",
       "      <td>The main purpose of Specification by Example, ...</td>\n",
       "      <td>378</td>\n",
       "      <td># Specification by Example  \\n## Definition  \\...</td>\n",
       "      <td>[378, 383, 771]</td>\n",
       "      <td>[378, 383, 379]</td>\n",
       "      <td>[378, 379, 383]</td>\n",
       "      <td>[378, 379, 383]</td>\n",
       "    </tr>\n",
       "    <tr>\n",
       "      <th>18</th>\n",
       "      <td>What are the key advantages of using interacti...</td>\n",
       "      <td>The key advantages of using interactive Power ...</td>\n",
       "      <td>1594</td>\n",
       "      <td>## Power BI Reports  \\n### Interactive reports...</td>\n",
       "      <td>[1594, 1595, 1592]</td>\n",
       "      <td>[1594, 1595, 1582]</td>\n",
       "      <td>[1594, 1595, 1580]</td>\n",
       "      <td>[1594, 1595, 1580]</td>\n",
       "    </tr>\n",
       "    <tr>\n",
       "      <th>19</th>\n",
       "      <td>What features does Delta Lake offer to facilit...</td>\n",
       "      <td>Delta Lake offers several features to facilita...</td>\n",
       "      <td>1559</td>\n",
       "      <td>## Time Travel  \\nDelta Lake enables time trav...</td>\n",
       "      <td>[1559, 220, 1560]</td>\n",
       "      <td>[1559, 222, 219]</td>\n",
       "      <td>[1559, 1560, 1557]</td>\n",
       "      <td>[1559, 1560, 1557]</td>\n",
       "    </tr>\n",
       "  </tbody>\n",
       "</table>\n",
       "</div>"
      ],
      "text/plain": [
       "                                             question  \\\n",
       "0   What are some advantages and disadvantages of ...   \n",
       "1   What are the advantages of using Lombok's `@lo...   \n",
       "2   What is the importance of differentiating betw...   \n",
       "3   What are the recommended storage formats for s...   \n",
       "4   What are the key strategies for eliminating wa...   \n",
       "5   What is the first step to take when selecting ...   \n",
       "6   How does the implementation of open ecosystems...   \n",
       "7   What are some key features of VoiceOver, the b...   \n",
       "8   What is the process for uninstalling the old v...   \n",
       "9   What is the purpose of the provided XML snippe...   \n",
       "10  What challenges does the team face after their...   \n",
       "11  What is the recommended approach for concatena...   \n",
       "12  What is the recommended logging strategy to en...   \n",
       "13  What are the key differences between Power BI ...   \n",
       "14  What are the key benefits of flattening JSON d...   \n",
       "15  What steps should you take to check if Maven i...   \n",
       "16  What is the purpose of writing unit tests acco...   \n",
       "17  What is the main purpose of Specification by E...   \n",
       "18  What are the key advantages of using interacti...   \n",
       "19  What features does Delta Lake offer to facilit...   \n",
       "\n",
       "                                               answer  chunk_id  \\\n",
       "0   ### Advantages of Using Web Components:\\n\\n1. ...       995   \n",
       "1   Using Lombok's `@lombok.Data` annotation offer...      1342   \n",
       "2   Differentiating between business and technical...       347   \n",
       "3   For tabular datasets, the recommended storage ...      1925   \n",
       "4   The key strategies for eliminating waste in th...      1486   \n",
       "5   The first step to take when selecting an SMTP ...      1614   \n",
       "6   The implementation of open ecosystems like Ope...      1658   \n",
       "7   VoiceOver, the built-in screen reader on iOS, ...      1396   \n",
       "8   To uninstall the old version of Java installed...      1126   \n",
       "9   The provided XML snippet serves the purpose of...      1452   \n",
       "10  After their plane crashes in the mountainous r...       420   \n",
       "11  The recommended approach for concatenating str...      1137   \n",
       "12  The recommended logging strategy to ensure ava...      1671   \n",
       "13  The key differences between Power BI service, ...      1595   \n",
       "14  The key benefits of flattening JSON data, as o...       250   \n",
       "15  To check if Maven is already installed before ...      1127   \n",
       "16  The purpose of writing unit tests, according t...      1256   \n",
       "17  The main purpose of Specification by Example, ...       378   \n",
       "18  The key advantages of using interactive Power ...      1594   \n",
       "19  Delta Lake offers several features to facilita...      1559   \n",
       "\n",
       "                                           chunk_text              RAG-bl  \\\n",
       "0   ## Framework vs. Web components  \\nOnce you've...     [995, 994, 993]   \n",
       "1   ### Example  \\nFor example, by adding [`@lombo...  [1342, 1344, 1343]   \n",
       "2   # System scope & Context  \\n**Contents**  \\nSy...     [347, 902, 377]   \n",
       "3   ### Dataset storage formats for tabular data  ...  [1925, 1921, 1563]   \n",
       "4   ### Eliminate waste  \\n- Partially done work d...   [1486, 1485, 273]   \n",
       "5   ## Check solutions in place  \\nFirst step in s...  [1615, 1614, 1622]   \n",
       "6   ### Making observability actionable and scalab...  [1658, 1624, 1864]   \n",
       "7   ### VoiceOver (iOS)  \\nVoiceOver is the built-...  [1396, 1397, 1395]   \n",
       "8   ## WSL Configuration  \\n### Java installation ...  [1126, 1121, 1122]   \n",
       "9   ### Logging error responses  \\nBy default the ...  [1452, 1284, 1668]   \n",
       "10  ### Game instructions:  \\nThe facilitator expl...     [420, 414, 461]   \n",
       "11  ### String Data Type  \\n- Use the [+ operator]...  [1137, 1105, 1148]   \n",
       "12  ## Ensure availability  \\nIn addition to the d...  [1671, 1672, 1662]   \n",
       "13  ### Power BI (Premium) vs SQL Server Reporting...  [1595, 1594, 1581]   \n",
       "14  ## Decision Rationale  \\n1. **Query Performanc...     [251, 253, 250]   \n",
       "15  ### Maven  \\nBefore attempting to install the ...  [1127, 1073, 1070]   \n",
       "16  # Unit testing  \\nUnit tests should be written...   [1256, 185, 1257]   \n",
       "17  # Specification by Example  \\n## Definition  \\...     [378, 383, 771]   \n",
       "18  ## Power BI Reports  \\n### Interactive reports...  [1594, 1595, 1592]   \n",
       "19  ## Time Travel  \\nDelta Lake enables time trav...   [1559, 220, 1560]   \n",
       "\n",
       "                 RAG-1               RAG-2               RAG-3  \n",
       "0      [995, 993, 994]   [995, 1265, 2071]   [995, 1265, 2071]  \n",
       "1   [1342, 1344, 1341]  [1342, 1341, 1344]  [1342, 1341, 1344]  \n",
       "2     [347, 902, 1019]     [347, 515, 690]     [347, 515, 690]  \n",
       "3    [1925, 216, 1926]   [1925, 216, 1413]   [1925, 1412, 216]  \n",
       "4   [1486, 1484, 1485]  [1486, 1484, 1485]  [1486, 1484, 1485]  \n",
       "5   [1614, 1615, 1622]  [1614, 1615, 1613]  [1614, 1615, 1613]  \n",
       "6   [1658, 1624, 1653]  [1658, 1624, 1653]  [1658, 1657, 1624]  \n",
       "7   [1396, 1397, 1395]  [1396, 1398, 1397]  [1396, 1398, 1397]  \n",
       "8   [1126, 1123, 1130]  [1126, 1123, 1130]  [1126, 1127, 1123]  \n",
       "9   [1452, 1447, 1284]  [1452, 1231, 1447]  [1452, 1231, 1447]  \n",
       "10     [420, 421, 486]     [420, 417, 541]     [420, 417, 534]  \n",
       "11  [1137, 1105, 1998]  [1137, 1136, 1105]  [1137, 1136, 1105]  \n",
       "12   [1671, 1672, 331]   [1671, 331, 1662]   [1671, 331, 1662]  \n",
       "13  [1595, 1593, 1594]  [1595, 1593, 1580]  [1595, 1593, 1580]  \n",
       "14     [250, 260, 249]     [250, 253, 251]     [250, 253, 251]  \n",
       "15  [1127, 1130, 1070]  [1127, 1130, 1069]  [1127, 1130, 1069]  \n",
       "16  [1256, 1246, 1242]   [1256, 185, 1759]   [1256, 185, 2050]  \n",
       "17     [378, 383, 379]     [378, 379, 383]     [378, 379, 383]  \n",
       "18  [1594, 1595, 1582]  [1594, 1595, 1580]  [1594, 1595, 1580]  \n",
       "19    [1559, 222, 219]  [1559, 1560, 1557]  [1559, 1560, 1557]  "
      ]
     },
     "execution_count": 19,
     "metadata": {},
     "output_type": "execute_result"
    }
   ],
   "source": [
    "dfqa"
   ]
  },
  {
   "cell_type": "markdown",
   "metadata": {},
   "source": [
    "### rest"
   ]
  },
  {
   "cell_type": "code",
   "execution_count": 7,
   "metadata": {},
   "outputs": [
    {
     "name": "stdout",
     "output_type": "stream",
     "text": [
      "The Alphas from the architecture essence checklist are:\n",
      "\n",
      "1. **Opportunity**\n",
      "2. **Stakeholders**\n",
      "3. **Requirements**\n",
      "4. **SoftwareSystem**\n",
      "5. **Work**\n",
      "6. **WayOfWorking**\n"
     ]
    }
   ],
   "source": [
    "# test ability to read tables\n",
    "q = \"List the Alphas from the architecture essence checklist.\"\n",
    "response = rag.query(q)\n",
    "print(response[\"answer\"])"
   ]
  },
  {
   "cell_type": "code",
   "execution_count": 8,
   "metadata": {},
   "outputs": [
    {
     "name": "stdout",
     "output_type": "stream",
     "text": [
      "The first phase of the essence scan is the \"Inception\" phase. In this phase, the following artifacts exist for the \"Requirements\" Alpha:\n",
      "\n",
      "- [Customer needs](../../03-architecture-guidance/05-artifacts/customer-needs.md)\n",
      "- [Business case](../../03-architecture-guidance/05-artifacts/business-case.md)\n",
      "- [Sales debt](../../03-architecture-guidance/05-artifacts/sales-debt.md)\n"
     ]
    }
   ],
   "source": [
    "# test complex ability to read tables\n",
    "q = \"What is the first phase of the essence scan and which artifacts exist in this phase for the requirements Alpha?\"\n",
    "response = rag.query(q)\n",
    "print(response[\"answer\"])"
   ]
  },
  {
   "cell_type": "code",
   "execution_count": 10,
   "metadata": {},
   "outputs": [
    {
     "name": "stdout",
     "output_type": "stream",
     "text": [
      "Based on the provided context, there is no explicit mention of a specific percentage of lines that can be duplicated during quality control. The context discusses various aspects of quality control, including unit tests, security risks, maintainability, and bug detection. However, it does not provide a numerical guideline for the duplication of lines of code.\n",
      "\n",
      "If you are looking for a general guideline on code duplication, it is often recommended to keep the duplication rate below 10-15% of the total codebase. This is because excessive duplication can lead to maintenance challenges and potential bugs. However, this is a general guideline and may vary depending on the specific context and requirements of your project.\n"
     ]
    }
   ],
   "source": [
    "q = \"What percentage of lines can be duplicated during quality control?\"\n",
    "response = rag.query(q)\n",
    "print(response[\"answer\"])"
   ]
  },
  {
   "cell_type": "code",
   "execution_count": 28,
   "metadata": {},
   "outputs": [
    {
     "data": {
      "text/plain": [
       "{'chunks': [{'filename': 'conventions.md',\n",
       "   'text': '## Definition of quality  \\n- The conventions are captured and maintained.\\n- The conventions are actively applied, reviewed and monitored.',\n",
       "   'vector_id': 905,\n",
       "   'distance': np.float32(1.1529663)},\n",
       "  {'filename': 'architecture-peer-review.md',\n",
       "   'text': '## Definition of quality  \\n- No high impact issues left\\n- Other issues are addressed',\n",
       "   'vector_id': 38,\n",
       "   'distance': np.float32(1.1719854)},\n",
       "  {'filename': '01-automated-quality-control.md',\n",
       "   'text': '## Aggregated quality control  \\nA part of quality control is the unit tests you write to prove the application is doing what it is supposed to do.  \\nHowever, there are more checks to validate the quality of your application:  \\n- Security risks\\n- Maintainability of code\\n- Bug detection  \\nIdeally you would like one tool to determine whether your application has sufficient quality to go to production. One tool to give all the feedback you need to improve your code to meet the quality standards.  \\nThis tool should also determine the quality of your software before it is merged to your main branch.',\n",
       "   'vector_id': 2454,\n",
       "   'distance': np.float32(1.1775377)}],\n",
       " 'query': 'How many lines can be duplicated during quality control?',\n",
       " 'answer': 'The context provided does not specify a limit on the number of lines that can be duplicated during quality control. The focus is more on ensuring that the application meets certain quality standards, such as no high-impact issues, addressing other issues, and maintaining security, maintainability, and bug detection. Therefore, there is no explicit limit on the number of duplicated lines of code during quality control.'}"
      ]
     },
     "execution_count": 28,
     "metadata": {},
     "output_type": "execute_result"
    }
   ],
   "source": [
    "response"
   ]
  },
  {
   "cell_type": "code",
   "execution_count": null,
   "metadata": {},
   "outputs": [
    {
     "name": "stdout",
     "output_type": "stream",
     "text": [
      "{'filename': '01-automated-quality-control.md', 'text': '### Conditions on `new code`  \\nConditions on _new code_ apply to all branches and to Pull Requests.  \\n| Metric | Operator | Value |\\n| -------------------------- | -------- | ----- |\\n| Coverage | >= | 80.0% |\\n| Duplicated Lines (%) | <= | 3.0% |\\n| Maintainability Rating | = | A |\\n| Blocker Issues | = | 0 |\\n| Critical Issues | = | 0 |\\n| Major Issues | = | 0 |\\n| Minor Issues | = | 0 |\\n| Unit Test Success (%) | = | 100% |\\n| Vulnerabilities | = | 0 |\\n| Reliability Rating | = | A |\\n| Security Hotspots Reviewed | = | 100% |\\n| Security Rating | = | A |', 'vector_id': 2465}\n"
     ]
    }
   ],
   "source": [
    "# view chunk with vector id 2465\n",
    "chunk = rag.embedder.chunkdata[2465]\n",
    "print(chunk)"
   ]
  },
  {
   "cell_type": "code",
   "execution_count": 11,
   "metadata": {},
   "outputs": [
    {
     "name": "stdout",
     "output_type": "stream",
     "text": [
      "The MLOps Accelerator is maintained by Willem Meints.\n"
     ]
    }
   ],
   "source": [
    "q = \"Who is the MLOps Accelerator?\"\n",
    "response = rag.query(q)\n",
    "print(response[\"answer\"])"
   ]
  },
  {
   "cell_type": "code",
   "execution_count": 32,
   "metadata": {},
   "outputs": [
    {
     "data": {
      "text/plain": [
       "{'chunks': [{'filename': 'index.md',\n",
       "   'text': '| [MLOps Accelerator](https://gitlab.infosupport.com/guidance-framework/azure-mlops-accelerator) | Willem Meints | <span class=\"status\">Public Preview</span> |  \\n> Please contact maintainers for access to accelerators that are in Private Preview.  \\n> Looking for the .NET Microservice sample app? Microsoft sample apps are now available [here](../04-technology-guidance/02-application-development/03-frameworks/01-microsoft/samples.md).',\n",
       "   'vector_id': 2924,\n",
       "   'distance': np.float32(0.7947072)},\n",
       "  {'filename': 'index.md',\n",
       "   'text': '# Accelerators  \\nAccelerators are sample solutions that contain proven technologies and best practices to help you deliver value quickly.  \\n| Accelerator | Maintainers | Status |\\n| ------------------------------------------------------------------------------------------------------------- | -------------- | :----------------------------------------: |\\n| [Azure iPaaS Accelerator](https://gitlab.infosupport.com/guidance-framework/azure-ipaas-accelerator) | Edwin van Wijk | <span class=\"status\">Public Preview</span> |\\n| [Modern Data Platform Accelerator](https://gitlab.infosupport.com/guidance-framework/azure-dpaas-accelerator) | Willem Meints | <span class=\"status\">Public Preview</span> |',\n",
       "   'vector_id': 2923,\n",
       "   'distance': np.float32(1.0163144)},\n",
       "  {'filename': '30-infrastructure-and-tooling.md',\n",
       "   'text': '- **Model retraining**: models can be tuned and retrained periodically, based on the monitoring results and changes over the data, to refine its performance  \\nMost MLOps services also allow the creation of pipelines, in a CI/CD fashion, where each of the previous steps can be automated.',\n",
       "   'vector_id': 2663,\n",
       "   'distance': np.float32(1.1143125)}],\n",
       " 'query': 'Who is the MLOps Accelerator?',\n",
       " 'answer': 'The MLOps Accelerator is maintained by Willem Meints.'}"
      ]
     },
     "execution_count": 32,
     "metadata": {},
     "output_type": "execute_result"
    }
   ],
   "source": [
    "response"
   ]
  },
  {
   "cell_type": "code",
   "execution_count": 12,
   "metadata": {},
   "outputs": [
    {
     "name": "stdout",
     "output_type": "stream",
     "text": [
      "Ja, Info Support heeft een code style voor Java. De code style wordt vaak geïmplementeerd door het gebruik van een code editor zoals IntelliJ IDEA, die ondersteuning biedt voor code stijl en best practices. Daarnaast kan Info Support gebruik maken van tools zoals Checkstyle, PMD of SpotBugs om de code te controleren en te beïnvloeden op de gewenste code stijl.\n",
      "\n",
      "Als je specifieke vragen hebt over de code stijl van Info Support, kun je deze vragen ook stellen.\n"
     ]
    }
   ],
   "source": [
    "q = \"Heeft Info Support een code style voor Java?\"\n",
    "response = rag.query(q)\n",
    "print(response[\"answer\"])"
   ]
  },
  {
   "cell_type": "code",
   "execution_count": 13,
   "metadata": {},
   "outputs": [
    {
     "data": {
      "text/plain": [
       "{'chunks': [{'filename': '20-coding-conventions.md',\n",
       "   'text': '## Security  \\nFollow the guidelines in\\n[Secure Coding Guidelines](https://www.oracle.com/java/technologies/javase/seccodeguide.html).',\n",
       "   'vector_id': 1146,\n",
       "   'distance': np.float32(0.9801399)},\n",
       "  {'filename': '15-intellij-wsl-and-java.md',\n",
       "   'text': '## Install IntelliJ Ultimate  \\nDownload the IDE here: [IntelliJ IDEA – the Leading Java and Kotlin IDE (\\njetbrains.com)](https://www.jetbrains.com/idea/)',\n",
       "   'vector_id': 1125,\n",
       "   'distance': np.float32(1.0228661)},\n",
       "  {'filename': '01-code-generation-libraries.md',\n",
       "   'text': '## Lombok  \\n[Project Lombok](https://projectlombok.org/) uses Java annotations to save you from writing a lot of boilerplate-style code.\\nIt is implemented as a compiler plug-in (emitting bytecode) and usually added as a dependency in your build system.',\n",
       "   'vector_id': 1341,\n",
       "   'distance': np.float32(1.0401319)}],\n",
       " 'query': 'Heeft Info Support een code style voor Java?',\n",
       " 'answer': 'Ja, Info Support heeft een code style voor Java. De code style wordt vaak geïmplementeerd door het gebruik van een code editor zoals IntelliJ IDEA, die ondersteuning biedt voor code stijl en best practices. Daarnaast kan Info Support gebruik maken van tools zoals Checkstyle, PMD of SpotBugs om de code te controleren en te beïnvloeden op de gewenste code stijl.\\n\\nAls je specifieke vragen hebt over de code stijl van Info Support, kun je deze vragen ook stellen.'}"
      ]
     },
     "execution_count": 13,
     "metadata": {},
     "output_type": "execute_result"
    }
   ],
   "source": [
    "response"
   ]
  },
  {
   "cell_type": "markdown",
   "metadata": {},
   "source": [
    "## Explanations"
   ]
  },
  {
   "cell_type": "code",
   "execution_count": 54,
   "metadata": {},
   "outputs": [
    {
     "data": {
      "text/plain": [
       "array([[0.68523639, 0.27313352, 0.87632006],\n",
       "       [0.94104105, 0.37541759, 0.77899438]])"
      ]
     },
     "execution_count": 54,
     "metadata": {},
     "output_type": "execute_result"
    }
   ],
   "source": [
    "# devide answer into sentences\n",
    "import re\n",
    "\n",
    "def split_into_sentences(text):\n",
    "    sentences = re.split(r'(?<=[.!?])\\s+', text.strip())\n",
    "    return [s for s in sentences if s]  # Remove empty strings\n",
    "\n",
    "sentences = split_into_sentences(response[\"answer\"])\n",
    "\n",
    "# measure similarity between sentences and chunks\n",
    "def similarity(sentence, chunk):\n",
    "    return np.dot(sentence, chunk) / (np.linalg.norm(sentence) * np.linalg.norm(chunk))\n",
    "\n",
    "sentence_vectors = rag.embedder.encode(sentences)\n",
    "chunk_vectors = rag.embedder.encode([chunk[\"text\"] for chunk in response[\"chunks\"]])\n",
    "\n",
    "similarity_matrix = np.zeros((len(sentences), len(chunk_vectors)))\n",
    "\n",
    "for i, sentence in enumerate(sentence_vectors):\n",
    "    for j, chunk in enumerate(chunk_vectors):\n",
    "        similarity_matrix[i, j] = similarity(sentence, chunk)\n",
    "\n",
    "similarity_matrix"
   ]
  },
  {
   "cell_type": "code",
   "execution_count": 55,
   "metadata": {},
   "outputs": [
    {
     "name": "stdout",
     "output_type": "stream",
     "text": [
      "For graph databases, you should use **Azure Cosmos DB with the Gremlin API**.[2] This is the only managed graph database offered in Azure.[0]\n"
     ]
    }
   ],
   "source": [
    "most_similar_chunk = np.argmax(similarity_matrix, axis=1)\n",
    "citations = [f'[{chunk_idx}]' for chunk_idx in most_similar_chunk]\n",
    "cited_sentences = [f\"{sentence}{citation}\" for sentence, citation in zip(sentences, citations)]\n",
    "cited_text = \" \".join(cited_sentences)\n",
    "\n",
    "print(cited_text)"
   ]
  },
  {
   "cell_type": "code",
   "execution_count": 56,
   "metadata": {},
   "outputs": [
    {
     "name": "stdout",
     "output_type": "stream",
     "text": [
      "[2] \n",
      "### Azure Cosmos DB (Gremlin API)  \n",
      "With the [Gremlin API in Azure Cosmos DB](https://docs.microsoft.com/en-us/azure/cosmos-db/graph-introduction) you can create and query large graphs.  \n",
      "> **Guidance:** Use **Azure Cosmos DB with the Gremlin API** for graph databases.\n",
      "> **Why:** This is the only managed graph database offered in Azure.\n",
      "\n",
      "[0] \n",
      "## Graph database  \n",
      "For graph databases there is a single managed offering in Azure.\n",
      "\n"
     ]
    }
   ],
   "source": [
    "# print citations with filenames\n",
    "for i, chunk_idx in enumerate(most_similar_chunk):\n",
    "    chunk = response[\"chunks\"][chunk_idx]\n",
    "    print(f\"[{chunk_idx}] \\n{chunk['text']}\\n\")"
   ]
  },
  {
   "cell_type": "markdown",
   "metadata": {},
   "source": [
    "## Research"
   ]
  },
  {
   "cell_type": "code",
   "execution_count": null,
   "metadata": {},
   "outputs": [
    {
     "name": "stdout",
     "output_type": "stream",
     "text": [
      "number of documents: 2\n",
      "number of chunks: 7427\n",
      "average chunk size: 105.0\n"
     ]
    },
    {
     "data": {
      "image/png": "[encoded data removed]",
      "text/plain": [
       "<Figure size 800x300 with 1 Axes>"
      ]
     },
     "metadata": {},
     "output_type": "display_data"
    }
   ],
   "source": [
    "import matplotlib.pyplot as plt\n",
    "\n",
    "# number of chunks\n",
    "n_chunks = len(rag.embedder.chunkdata)\n",
    "print(f'number of chunks: {n_chunks}')\n",
    "\n",
    "# average chunk size\n",
    "avg_chunk_size = sum([len(chunk['text']) for chunk in rag.embedder.chunkdata]) / n_chunks\n",
    "print(f'average chunk size: {round(avg_chunk_size, 0)}')\n",
    "\n",
    "# plot distribution of chunk sizes\n",
    "plt.figure(figsize=(8,3))  # Set the figure size\n",
    "chunk_sizes = [len(chunk['text']) for chunk in rag.embedder.chunkdata]\n",
    "plt.hist(chunk_sizes, bins=50)\n",
    "plt.xlabel('Chunk size')\n",
    "plt.ylabel('Frequency')\n",
    "plt.title('Distribution of chunk sizes');"
   ]
  },
  {
   "cell_type": "code",
   "execution_count": 1,
   "metadata": {},
   "outputs": [
    {
     "ename": "NameError",
     "evalue": "name 'RAG' is not defined",
     "output_type": "error",
     "traceback": [
      "\u001b[31m---------------------------------------------------------------------------\u001b[39m",
      "\u001b[31mNameError\u001b[39m                                 Traceback (most recent call last)",
      "\u001b[36mCell\u001b[39m\u001b[36m \u001b[39m\u001b[32mIn[1]\u001b[39m\u001b[32m, line 12\u001b[39m\n\u001b[32m      9\u001b[39m \u001b[38;5;66;03m# query rag and query gemini and compare semantic similarity\u001b[39;00m\n\u001b[32m     10\u001b[39m query = \u001b[33m\"\u001b[39m\u001b[33mWhat is XAI in RAG?\u001b[39m\u001b[33m\"\u001b[39m\n\u001b[32m---> \u001b[39m\u001b[32m12\u001b[39m rag = \u001b[43mRAG\u001b[49m()\n\u001b[32m     13\u001b[39m rag_response = rag.query(query, top_k_chunks=\u001b[32m3\u001b[39m)\n\u001b[32m     14\u001b[39m LLM_response = rag.query_LLM(query).content\n",
      "\u001b[31mNameError\u001b[39m: name 'RAG' is not defined"
     ]
    }
   ],
   "source": [
    "def semantic_similarity(text1, text2) -> float:\n",
    "    \"\"\"Calculates the cosine similarity between two text vectors.\"\"\"\n",
    "    embedder = Embedder(\"all-MiniLM-L6-v2\")\n",
    "    vec1 = embedder.encode([text1])\n",
    "    vec2 = embedder.encode([text2])\n",
    "    similarity = np.dot(vec1, vec2.T) / (np.linalg.norm(vec1) * np.linalg.norm(vec2))\n",
    "    return similarity[0][0]\n",
    "\n",
    "# query rag and query gemini and compare semantic similarity\n",
    "query = \"What is XAI in RAG?\"\n",
    "\n",
    "rag = RAG()\n",
    "rag_response = rag.query(query, top_k_chunks=3)\n",
    "LLM_response = rag.query_LLM(query).content\n",
    "similarity = semantic_similarity(rag_response[\"answer\"], LLM_response)\n",
    "print(f\"Semantic similarity between RAG and LLM: {similarity}\")"
   ]
  },
  {
   "cell_type": "code",
   "execution_count": null,
   "metadata": {},
   "outputs": [
    {
     "data": {
      "text/plain": [
       "('Based on the context provided, I am unable to answer the question \"What is XAI in RAG?\". The context provided does not contain any information about XAI or RAG.',\n",
       " 'In the context of Retrieval-Augmented Generation (RAG), XAI stands for **Explainable AI**. It refers to techniques and methods used to understand and explain the reasoning process of the RAG pipeline, specifically focusing on *why* the system retrieved certain documents and *how* those documents influenced the generated output.\\n\\nHere\\'s a breakdown of XAI\\'s role in RAG:\\n\\n*   **Understanding Retrieval:**\\n\\n    *   **Why was this document retrieved?** XAI helps understand the factors that led to the selection of a specific document from the knowledge base.  This might involve highlighting the keywords in the query that matched the document, showing the similarity score, or revealing the specific retrieval algorithm\\'s logic.\\n    *   **What features of the document made it relevant?** Analyzing the document\\'s content, structure, or metadata to pinpoint the elements that contributed to its relevance.\\n    *   **Identifying potential biases in retrieval:**  XAI can uncover biases in the retrieval process, such as favoring certain types of documents or overlooking information due to limitations in the indexing or search mechanisms.\\n\\n*   **Understanding Generation:**\\n\\n    *   **How did the retrieved documents influence the generated answer?**  Tracing the lineage of the generated text back to specific passages in the retrieved documents. This could involve highlighting the portions of the document that were used to form the answer or demonstrating the reasoning chain that connects the retrieved information to the final output.\\n    *   **Why was this specific wording chosen?**  Explaining the generator\\'s choices, considering the context from the retrieved documents and the model\\'s internal knowledge.\\n    *   **Identifying potential hallucinations or inaccuracies:**  XAI can help detect instances where the generated text is not supported by the retrieved documents or contradicts the information in the knowledge base.\\n\\n*   **Benefits of XAI in RAG:**\\n\\n    *   **Improved Trust:**  By providing explanations, XAI increases user trust in the system\\'s output. Users are more likely to accept and rely on the generated answers if they understand how the system arrived at them.\\n    *   **Debugging and Optimization:**  XAI helps developers identify and address issues in the RAG pipeline, such as poor retrieval performance, biases, or generation errors.  Understanding the reasoning process allows for targeted improvements to the retrieval algorithms, knowledge base, or generation model.\\n    *   **Enhanced Transparency:**  XAI promotes transparency by making the RAG system\\'s decision-making process more visible and understandable.\\n    *   **Compliance and Accountability:** In regulated industries, XAI can help ensure that RAG systems are compliant with regulations that require transparency and accountability.\\n    *   **Better Understanding of Model Behavior:** XAI allows researchers to gain a deeper understanding of how language models interact with retrieved knowledge, leading to advancements in RAG techniques.\\n\\n*   **Techniques for XAI in RAG:**\\n\\n    *   **Attention Mechanisms:**  Visualizing attention weights to show which parts of the retrieved documents the generator is focusing on.\\n    *   **Gradient-based methods:**  Using gradients to identify the input features that are most influential in the model\\'s prediction.\\n    *   **Perturbation-based methods:**  Analyzing how the output changes when specific parts of the input (retrieved documents or query) are modified.\\n    *   **Rule-based explanations:**  Developing rules or heuristics to explain the retrieval and generation processes.\\n    *   **Natural language explanations:**  Generating human-readable explanations of the system\\'s reasoning.\\n    *   **Provenance Tracking:**  Maintaining a record of the data sources and processing steps that led to the final output.\\n\\nIn summary, XAI in RAG aims to open the \"black box\" of these complex systems, making them more understandable, trustworthy, and reliable.  It is a crucial aspect of responsible AI development and deployment, particularly in applications where accuracy and transparency are paramount.')"
      ]
     },
     "execution_count": 19,
     "metadata": {},
     "output_type": "execute_result"
    }
   ],
   "source": [
    "rag_response[\"answer\"], LLM_response"
   ]
  }
 ],
 "metadata": {
  "kernelspec": {
   "display_name": "rag--7y4UdRY-py3.13",
   "language": "python",
   "name": "python3"
  },
  "language_info": {
   "codemirror_mode": {
    "name": "ipython",
    "version": 3
   },
   "file_extension": ".py",
   "mimetype": "text/x-python",
   "name": "python",
   "nbconvert_exporter": "python",
   "pygments_lexer": "ipython3",
   "version": "3.13.2"
  }
 },
 "nbformat": 4,
 "nbformat_minor": 2
}
