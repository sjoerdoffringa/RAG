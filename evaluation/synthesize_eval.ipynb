{
 "cells": [
  {
   "cell_type": "code",
   "execution_count": null,
   "metadata": {},
   "outputs": [],
   "source": [
    "'''\n",
    "Create a dataset to evaluate RAG performance, by generating QA pairs with an LLM from chunks of a database.\n",
    "parameters:\n",
    "- Choose a database to evaluate on.\n",
    "- Set amount of QA pairs to generate.\n",
    "- Set minimum chunk length.\n",
    "- Set LLM model to use.\n",
    "'''"
   ]
  },
  {
   "cell_type": "code",
   "execution_count": 1,
   "metadata": {},
   "outputs": [],
   "source": [
    "# import libraries\n",
    "import json\n",
    "import os\n",
    "import random\n",
    "from langchain.chat_models import init_chat_model\n",
    "import pandas as pd\n",
    "from datetime import datetime\n",
    "\n",
    "# configure\n",
    "embedding_path = \"../embeddings/guidance_framework_2/\"\n",
    "chunk_path = embedding_path + 'chunk_data.json'\n",
    "\n",
    "n = 20\n",
    "min_chunk_length = 500\n",
    "LLM_model = \"openai:gpt-4o-mini\"\n",
    "\n",
    "# load chunk data\n",
    "if os.path.exists(chunk_path):\n",
    "    with open(chunk_path, 'r') as f:\n",
    "        chunk_data = json.load(f)\n",
    "else:\n",
    "    print(\"Chunk data not found.\")\n",
    "\n",
    "# filter short chunks\n",
    "chunk_data = [chunk for chunk in chunk_data if len(chunk['text']) > min_chunk_length]\n",
    "\n",
    "# sample n random chunks\n",
    "random_chunks = random.sample(chunk_data, n)\n",
    "\n",
    "# generate QA pairs\n",
    "#full_LLM_models = [\"openai:gpt-4o-mini\", \"google_genai:gemini-2.0-flash\", \"mistralai:ministral-3b-latest\"]\n",
    "#LLM = full_LLM_models[0]\n",
    "chat_model = init_chat_model(LLM_model)\n",
    "\n",
    "eval_data = []\n",
    "for chunk in random_chunks:\n",
    "    chunk_text = chunk['text']\n",
    "    chunk_id = chunk['vector_id']\n",
    "\n",
    "    try:\n",
    "        q_prompt = f\"Generate a question from the following text:\\n\\n{chunk_text}\\n\\nQuestion:\"\n",
    "        question = chat_model.invoke(q_prompt).content\n",
    "        a_prompt = f\"Answer the following question:\\n\\n{question}\\n\\nText:\\n\\n{chunk_text}\\n\\nAnswer:\"\n",
    "        answer = chat_model.invoke(a_prompt).content\n",
    "    except:\n",
    "        n_questions = len(eval_data)\n",
    "        print(f\"Error after generating {n_questions} questions and answers.\")\n",
    "        break\n",
    "\n",
    "    eval_data.append([question, answer, chunk_id, chunk_text])\n",
    "\n",
    "df = pd.DataFrame(eval_data, columns=['question', 'answer', 'chunk_id', 'chunk_text'])"
   ]
  },
  {
   "cell_type": "code",
   "execution_count": 2,
   "metadata": {},
   "outputs": [],
   "source": [
    "# view full df\n",
    "from xlwings import view\n",
    "view(df)"
   ]
  },
  {
   "cell_type": "code",
   "execution_count": null,
   "metadata": {},
   "outputs": [],
   "source": [
    "# save eval\n",
    "timestamp_id = datetime.now().strftime(\"%Y%m%d%H%M%S\")[2:]\n",
    "timestamp = datetime.now().strftime(\"%Y-%m-%d %H:%M:%S\")\n",
    "\n",
    "eval_dir = './QA_sets/'\n",
    "if not os.path.exists(eval_dir):\n",
    "    os.makedirs(eval_dir)\n",
    "\n",
    "csv_path = eval_dir + f\"{timestamp_id}.csv\"\n",
    "metadata_path = eval_dir + f\"{timestamp_id}_metadata.json\"\n",
    "\n",
    "metadata = {\n",
    "    \"embedding_path\": embedding_path,\n",
    "    \"n\": n,\n",
    "    \"min_chunk_length\": min_chunk_length,\n",
    "    \"LLM\": LLM_model,\n",
    "    \"save_date\": timestamp\n",
    "}\n",
    "\n",
    "df.to_csv(csv_path, index=False)\n",
    "with open(metadata_path, 'w') as f:\n",
    "    json.dump(metadata, f)"
   ]
  }
 ],
 "metadata": {
  "kernelspec": {
   "display_name": "Python 3",
   "language": "python",
   "name": "python3"
  },
  "language_info": {
   "codemirror_mode": {
    "name": "ipython",
    "version": 3
   },
   "file_extension": ".py",
   "mimetype": "text/x-python",
   "name": "python",
   "nbconvert_exporter": "python",
   "pygments_lexer": "ipython3",
   "version": "3.13.2"
  }
 },
 "nbformat": 4,
 "nbformat_minor": 2
}
